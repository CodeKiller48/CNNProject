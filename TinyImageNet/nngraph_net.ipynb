{
 "cells": [
  {
   "cell_type": "code",
   "execution_count": null,
   "metadata": {
    "collapsed": false
   },
   "outputs": [
    {
     "data": {
      "text/plain": [
       "Successfully loaded ../../Data/VGG_caffe/VGG_ILSVRC_16_layers.caffemodel\n"
      ]
     },
     "execution_count": 1,
     "metadata": {},
     "output_type": "execute_result"
    },
    {
     "data": {
      "text/plain": [
       "conv1_1: 64 3 3 3\n",
       "conv1_2: 64 64 3 3\n",
       "conv2_1: 128 64 3 3\n",
       "conv2_2: 128 128 3 3\n",
       "conv3_1: 256 128 3 3\n"
      ]
     },
     "execution_count": 1,
     "metadata": {},
     "output_type": "execute_result"
    },
    {
     "data": {
      "text/plain": [
       "conv3_2: 256 256 3 3\n"
      ]
     },
     "execution_count": 1,
     "metadata": {},
     "output_type": "execute_result"
    },
    {
     "data": {
      "text/plain": [
       "conv3_3: 256 256 3 3\n"
      ]
     },
     "execution_count": 1,
     "metadata": {},
     "output_type": "execute_result"
    },
    {
     "data": {
      "text/plain": [
       "conv4_1: 512 256 3 3\n"
      ]
     },
     "execution_count": 1,
     "metadata": {},
     "output_type": "execute_result"
    },
    {
     "data": {
      "text/plain": [
       "conv4_2: 512 512 3 3\n"
      ]
     },
     "execution_count": 1,
     "metadata": {},
     "output_type": "execute_result"
    },
    {
     "data": {
      "text/plain": [
       "conv4_3: 512 512 3 3\n"
      ]
     },
     "execution_count": 1,
     "metadata": {},
     "output_type": "execute_result"
    },
    {
     "data": {
      "text/plain": [
       "conv5_1: 512 512 3 3\n"
      ]
     },
     "execution_count": 1,
     "metadata": {},
     "output_type": "execute_result"
    },
    {
     "data": {
      "text/plain": [
       "conv5_2: 512 512 3 3\n"
      ]
     },
     "execution_count": 1,
     "metadata": {},
     "output_type": "execute_result"
    },
    {
     "data": {
      "text/plain": [
       "conv5_3: 512 512 3 3\n"
      ]
     },
     "execution_count": 1,
     "metadata": {},
     "output_type": "execute_result"
    },
    {
     "data": {
      "text/plain": [
       "fc6: 1 1 25088 4096\n"
      ]
     },
     "execution_count": 1,
     "metadata": {},
     "output_type": "execute_result"
    }
   ],
   "source": [
    "require 'nngraph';\n",
    "require 'loadcaffe'\n",
    "require 'image'\n",
    "prototxt = '../../Data/VGG_caffe/VGG_ILSVRC_16_layers_deploy.prototxt'\n",
    "binary = '../../Data/VGG_caffe/VGG_ILSVRC_16_layers.caffemodel'\n",
    "net = loadcaffe.load(prototxt, binary);\n",
    "\n",
    "-- this will load the network and print it's structure\n"
   ]
  },
  {
   "cell_type": "code",
   "execution_count": null,
   "metadata": {
    "collapsed": false
   },
   "outputs": [],
   "source": [
    "input = nn.Identity()():annotate{\n",
    "   name = 'Conv Layer 1', description = 'Image Features',\n",
    "   graphAttributes = {color = 'green'}\n",
    "}\n",
    "conv1  = net.modules[1]\n",
    "conv3  = net.modules[3]\n",
    "conv6  = net.modules[6]\n",
    "conv8  = net.modules[8]\n",
    "conv11 = net.modules[11]\n",
    "conv13 = net.modules[13]\n",
    "conv15 = net.modules[15]\n",
    "conv18 = net.modules[18]\n",
    "conv20 = net.modules[20]\n",
    "conv22 = net.modules[22]\n",
    "conv25 = net.modules[25]\n",
    "conv27 = net.modules[27]\n",
    "conv29 = net.modules[27]\n",
    "FC33   = net.modules[33]\n",
    "FC36   = net.modules[36]\n",
    "FC39   = net.modules[39]\n",
    "\n",
    "level_0  = conv1(input):annotate{\n",
    "   name = 'Conv Layer 1', description = 'Image Features',\n",
    "   graphAttributes = {color = 'red'}\n",
    "}\n",
    "level_1  = conv3(nn.ReLU()(level_0)):annotate{\n",
    "   name = 'Conv Layer 2', description = 'Image Features',\n",
    "   graphAttributes = {color = 'blue'}\n",
    "}\n",
    "level_2  = conv6(nn.SpatialMaxPooling(2,2,2,2)(nn.ReLU()(level_1))):annotate{\n",
    "   name = 'Conv Layer 3', description = 'Image Features',\n",
    "   graphAttributes = {color = 'red'}\n",
    "}\n",
    "level_3  = conv8(nn.ReLU()(level_2)):annotate{\n",
    "   name = 'Conv Layer 3', description = 'Image Features',\n",
    "   graphAttributes = {color = 'blue'}\n",
    "}\n",
    "level_4  = conv11( nn.SpatialMaxPooling(2,2,2,2)(nn.ReLU()(level_3)) ):annotate{\n",
    "   name = 'Conv Layer 3', description = 'Image Features',\n",
    "   graphAttributes = {color = 'red'}\n",
    "}\n",
    "level_5  = conv13(nn.ReLU()(level_4)):annotate{\n",
    "   name = 'Conv Layer 3', description = 'Image Features',\n",
    "   graphAttributes = {color = 'red'}\n",
    "}\n",
    "level_6  = conv15(nn.ReLU()(level_5)):annotate{\n",
    "   name = 'Conv Layer 3', description = 'Image Features',\n",
    "   graphAttributes = {color = 'blue'}\n",
    "}\n",
    "-- We are not using these levels yet. Hence commented\n",
    "-- level_7 = conv18(nn.SpatialMaxPooling(2,2,2,2)(nn.ReLU()(level_6)))\n",
    "-- level_8 = conv20(nn.ReLU()(level_7))\n",
    "-- level_9 = conv22(nn.ReLU()(level_8))\n",
    "-- level_10 = conv25(nn.SpatialMaxPooling(2,2,2,2)(nn.ReLU()(level_9)))\n",
    "-- level_11 = conv27(nn.ReLU()(level_10))\n",
    "-- level_12 = conv29(nn.ReLU()(level_11))\n",
    "-- level_13 = FC33(nn.View(-1)(nn.SpatialMaxPooling(2,2,2,2)(nn.ReLU()(level_12))))\n",
    "-- level_14 = FC36(nn.Dropout(0.5)(nn.ReLU()(level_13)))\n",
    "-- level_15 = FC39(nn.Dropout(0.5)(nn.ReLU()(level_14)))\n",
    "-- output = nn.SoftMax()(level_15)\n",
    "\n",
    "\n"
   ]
  },
  {
   "cell_type": "code",
   "execution_count": null,
   "metadata": {
    "collapsed": false
   },
   "outputs": [],
   "source": [
    "-- Deconvoluting level 3 and level 6\n",
    "level_3_deconv = nn.SpatialFullConvolution(128, 16, 1, 1, 2, 2, 0, 0, 1, 1)(level_3):annotate{\n",
    "   name = 'Deconving level 3', description = 'To increase the dimension',\n",
    "   graphAttributes = {color = 'yellow'}\n",
    "}\n",
    "level_6_deconv = nn.SpatialFullConvolution(256, 16, 2, 2, 4, 4, 0, 0, 2, 2)(level_6):annotate{\n",
    "   name = 'Deconving level 6', description = 'To increase the dimension',\n",
    "   graphAttributes = {color = 'yellow'}\n",
    "}\n",
    "output_VGG = (nn.JoinTable(1)({input, level_1, level_3_deconv, level_6_deconv})):annotate{\n",
    "   name = 'Joining layer', description = 'Joining input, level1, deconved_level3, deconved_level6',\n",
    "   graphAttributes = {color = 'grey'}\n",
    "}\n",
    "\n",
    "\n",
    "-- Building our own network from here. 3 layers\n",
    "level_6point5 = nn.SpatialBatchNormalization(32)( nn.SpatialConvolution(49, 32, 3, 3, 1, 1, 1, 1)(output_VGG))\n",
    "level_7 = nn.SpatialMaxPooling(2,2,2,2)(nn.ReLU()( level_6point5 ))\n",
    "\n",
    "level_7point5 = nn.SpatialBatchNormalization(32)( nn.SpatialConvolution(32, 64, 3, 3, 1, 1, 1, 1)(level_7))\n",
    "level_8 = nn.SpatialMaxPooling(2,2,2,2)(nn.ReLU()( level_7point5 ))\n",
    "\n",
    "level_9= nn.Sigmoid()( nn.SpatialConvolution(64, 2, 3, 3, 1, 1, 1, 1)(level_8)):annotate{\n",
    "   name = 'Final Layer', description = 'Final output. Using Sigmoid',\n",
    "   graphAttributes = {color = 'purple'}\n",
    "}\n",
    "\n",
    "mlp = nn.gModule({input}, {level_9})\n",
    "graph.dot(mlp.fg, 'MLP', 'VGGnet')\n"
   ]
  }
 ],
 "metadata": {
  "kernelspec": {
   "display_name": "iTorch",
   "language": "lua",
   "name": "itorch"
  },
  "language_info": {
   "name": "lua",
   "version": "5.1"
  }
 },
 "nbformat": 4,
 "nbformat_minor": 0
}
