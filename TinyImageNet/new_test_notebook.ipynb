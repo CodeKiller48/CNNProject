{
 "cells": [
  {
   "cell_type": "code",
   "execution_count": 5,
   "metadata": {
    "collapsed": false
   },
   "outputs": [],
   "source": [
    "require 'VGG';"
   ]
  },
  {
   "cell_type": "code",
   "execution_count": null,
   "metadata": {
    "collapsed": false
   },
   "outputs": [
    {
     "data": {
      "text/plain": [
       "Successfully loaded ../../Data/VGG_caffe/VGG_ILSVRC_16_layers.caffemodel\n"
      ]
     },
     "execution_count": 6,
     "metadata": {},
     "output_type": "execute_result"
    }
   ],
   "source": [
    "VGG_net = load_VGG();\n",
    "print('VGGnet5\\n' .. VGG_net:__tostring());"
   ]
  },
  {
   "cell_type": "code",
   "execution_count": null,
   "metadata": {
    "collapsed": false
   },
   "outputs": [],
   "source": [
    "local layer_nums = {3,9,16}\n",
    "local num_images = 32;\n",
    "hc_dataset = create_hypercolumn_dataset(num_images, layer_nums)\n",
    "hc_file_name = '../../Data/tiny-imagenet-200/test/hc/test.t7'\n"
   ]
  },
  {
   "cell_type": "code",
   "execution_count": null,
   "metadata": {
    "collapsed": false
   },
   "outputs": [],
   "source": [
    "torch.save(hc_file_name, hc_dataset)"
   ]
  },
  {
   "cell_type": "code",
   "execution_count": 6,
   "metadata": {
    "collapsed": false
   },
   "outputs": [
    {
     "data": {
      "text/plain": [
       "{\n",
       "  hypercolumns : DoubleTensor - size: 16x384x112x112\n",
       "  images : DoubleTensor - size: 16x3x64x64\n",
       "}\n"
      ]
     },
     "execution_count": 6,
     "metadata": {},
     "output_type": "execute_result"
    }
   ],
   "source": [
    "print(hc_dataset)"
   ]
  },
  {
   "cell_type": "code",
   "execution_count": 7,
   "metadata": {
    "collapsed": false
   },
   "outputs": [
    {
     "ename": "/home/kedart/torch/install/share/lua/5.1/image/init.lua:650: attempt to index local 'src' (a nil value)\nstack traceback:\n\t/home/kedart/torch/install/share/lua/5.1/image/init.lua:650: in function 'scale'\n\t./VGG.lua:16: in function 'preprocess'\n\t[string \"p_img = preprocess(im1)...\"]:1: in main chunk\n\t[C]: in function 'xpcall'\n\t/home/kedart/torch/install/share/lua/5.1/itorch/main.lua:209: in function </home/kedart/torch/install/share/lua/5.1/itorch/main.lua:173>\n\t/home/kedart/torch/install/share/lua/5.1/lzmq/poller.lua:75: in function 'poll'\n\t/home/kedart/torch/install/share/lua/5.1/lzmq/impl/loop.lua:307: in function 'poll'\n\t/home/kedart/torch/install/share/lua/5.1/lzmq/impl/loop.lua:325: in function 'sleep_ex'\n\t/home/kedart/torch/install/share/lua/5.1/lzmq/impl/loop.lua:370: in function 'start'\n\t/home/kedart/torch/install/share/lua/5.1/itorch/main.lua:381: in main chunk\n\t[C]: in function 'require'\n\t(command line):1: in main chunk\n\t[C]: at 0x00406670",
     "evalue": "",
     "output_type": "error",
     "traceback": [
      "/home/kedart/torch/install/share/lua/5.1/image/init.lua:650: attempt to index local 'src' (a nil value)\nstack traceback:\n\t/home/kedart/torch/install/share/lua/5.1/image/init.lua:650: in function 'scale'\n\t./VGG.lua:16: in function 'preprocess'\n\t[string \"p_img = preprocess(im1)...\"]:1: in main chunk\n\t[C]: in function 'xpcall'\n\t/home/kedart/torch/install/share/lua/5.1/itorch/main.lua:209: in function </home/kedart/torch/install/share/lua/5.1/itorch/main.lua:173>\n\t/home/kedart/torch/install/share/lua/5.1/lzmq/poller.lua:75: in function 'poll'\n\t/home/kedart/torch/install/share/lua/5.1/lzmq/impl/loop.lua:307: in function 'poll'\n\t/home/kedart/torch/install/share/lua/5.1/lzmq/impl/loop.lua:325: in function 'sleep_ex'\n\t/home/kedart/torch/install/share/lua/5.1/lzmq/impl/loop.lua:370: in function 'start'\n\t/home/kedart/torch/install/share/lua/5.1/itorch/main.lua:381: in main chunk\n\t[C]: in function 'require'\n\t(command line):1: in main chunk\n\t[C]: at 0x00406670"
     ]
    }
   ],
   "source": [
    "p_img = preprocess(im1)\n",
    "itorch.image(p_img);"
   ]
  },
  {
   "cell_type": "code",
   "execution_count": 8,
   "metadata": {
    "collapsed": false
   },
   "outputs": [
    {
     "ename": "...kkumarbagaria/torch/install/share/lua/5.1/image/init.lua:650: attempt to index local 'src' (a nil value)\nstack traceback:\n\t...kkumarbagaria/torch/install/share/lua/5.1/image/init.lua:650: in function 'scale'\n\t./VGG.lua:16: in function 'preprocess'\n\t./VGG.lua:30: in function 'VGG_forward_test'\n\t[string \"top_classes = VGG_forward_test(im1,VGG_net);...\"]:1: in main chunk\n\t[C]: in function 'xpcall'\n\t...kumarbagaria/torch/install/share/lua/5.1/itorch/main.lua:209: in function <...kumarbagaria/torch/install/share/lua/5.1/itorch/main.lua:173>\n\t...kumarbagaria/torch/install/share/lua/5.1/lzmq/poller.lua:75: in function 'poll'\n\t...arbagaria/torch/install/share/lua/5.1/lzmq/impl/loop.lua:307: in function 'poll'\n\t...arbagaria/torch/install/share/lua/5.1/lzmq/impl/loop.lua:325: in function 'sleep_ex'\n\t...arbagaria/torch/install/share/lua/5.1/lzmq/impl/loop.lua:370: in function 'start'\n\t...kumarbagaria/torch/install/share/lua/5.1/itorch/main.lua:381: in main chunk\n\t[C]: in function 'require'\n\t(command line):1: in main chunk\n\t[C]: at 0x010d79bba0",
     "evalue": "",
     "output_type": "error",
     "traceback": [
      "...kkumarbagaria/torch/install/share/lua/5.1/image/init.lua:650: attempt to index local 'src' (a nil value)\nstack traceback:\n\t...kkumarbagaria/torch/install/share/lua/5.1/image/init.lua:650: in function 'scale'\n\t./VGG.lua:16: in function 'preprocess'\n\t./VGG.lua:30: in function 'VGG_forward_test'\n\t[string \"top_classes = VGG_forward_test(im1,VGG_net);...\"]:1: in main chunk\n\t[C]: in function 'xpcall'\n\t...kumarbagaria/torch/install/share/lua/5.1/itorch/main.lua:209: in function <...kumarbagaria/torch/install/share/lua/5.1/itorch/main.lua:173>\n\t...kumarbagaria/torch/install/share/lua/5.1/lzmq/poller.lua:75: in function 'poll'\n\t...arbagaria/torch/install/share/lua/5.1/lzmq/impl/loop.lua:307: in function 'poll'\n\t...arbagaria/torch/install/share/lua/5.1/lzmq/impl/loop.lua:325: in function 'sleep_ex'\n\t...arbagaria/torch/install/share/lua/5.1/lzmq/impl/loop.lua:370: in function 'start'\n\t...kumarbagaria/torch/install/share/lua/5.1/itorch/main.lua:381: in main chunk\n\t[C]: in function 'require'\n\t(command line):1: in main chunk\n\t[C]: at 0x010d79bba0"
     ]
    }
   ],
   "source": [
    "top_classes = VGG_forward_test(im1,VGG_net);\n",
    "--prob_1,classes_1 = net:forward(p_img):view(-1):sort(true)\n",
    "--print(prob)\n",
    "--classes5 = VGG_forward(im1,VGG_net)\n",
    "print(top_classes);"
   ]
  },
  {
   "cell_type": "code",
   "execution_count": null,
   "metadata": {
    "collapsed": false
   },
   "outputs": [],
   "source": [
    "layer_nums = {2,3}\n",
    "hc = get_VGG_hypercolumns(im_batch,VGG_net,layer_nums)"
   ]
  },
  {
   "cell_type": "code",
   "execution_count": null,
   "metadata": {
    "collapsed": false
   },
   "outputs": [],
   "source": [
    "scaled_layer = image.scale(hc,224,224,'simple')\n",
    "itorch.image(scaled_layer)"
   ]
  },
  {
   "cell_type": "code",
   "execution_count": null,
   "metadata": {
    "collapsed": false,
    "scrolled": true
   },
   "outputs": [],
   "source": [
    "require \"lfs\"\n",
    "local image_dir = '../../Data/tiny-imagenet-200/test/images'\n",
    "local max_count = 10;\n",
    "local count = 0;\n",
    "local hc = nil;\n",
    "for file in lfs.dir(image_dir) do\n",
    "    if string.match(file, \".JPEG\") then\n",
    "        if count == max_count then\n",
    "            break;\n",
    "        end\n",
    "        count = count + 1;\n",
    "        print( \"Found file: \" .. file )\n",
    "        hc_temp = get_VGG_hypercolumns(im1,VGG_net,layer_nums)\n",
    "        hc = torch.cat(hc,hc_temp)\n",
    "    end\n",
    "end"
   ]
  },
  {
   "cell_type": "code",
   "execution_count": 2,
   "metadata": {
    "collapsed": false
   },
   "outputs": [
    {
     "data": {
      "text/plain": [
       " 1.4917e-154  1.4917e-154  4.2726e+180\n",
       " 2.9124e+257  5.5611e+180  2.1639e+190\n",
       "[torch.DoubleTensor of size 2x3]\n",
       "\n"
      ]
     },
     "execution_count": 2,
     "metadata": {},
     "output_type": "execute_result"
    }
   ],
   "source": [
    "a = torch.Tensor(2,3)\n",
    "print(a)"
   ]
  },
  {
   "cell_type": "code",
   "execution_count": null,
   "metadata": {
    "collapsed": true
   },
   "outputs": [],
   "source": []
  }
 ],
 "metadata": {
  "kernelspec": {
   "display_name": "iTorch",
   "language": "lua",
   "name": "itorch"
  },
  "language_info": {
   "name": "lua",
   "version": "5.1"
  }
 },
 "nbformat": 4,
 "nbformat_minor": 0
}
