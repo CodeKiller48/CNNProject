{
 "cells": [
  {
   "cell_type": "code",
   "execution_count": 1,
   "metadata": {
    "collapsed": false
   },
   "outputs": [],
   "source": [
    "require 'VGG';"
   ]
  },
  {
   "cell_type": "code",
   "execution_count": 2,
   "metadata": {
    "collapsed": false
   },
   "outputs": [
    {
     "data": {
      "text/plain": [
       "Successfully loaded ../../Data/VGG_caffe/VGG_ILSVRC_16_layers.caffemodel\n"
      ]
     },
     "execution_count": 2,
     "metadata": {},
     "output_type": "execute_result"
    },
    {
     "data": {
      "text/plain": [
       "conv1_1: 64 3 3 3\n",
       "conv1_2: 64 64 3 3\n",
       "conv2_1: 128 64 3 3\n"
      ]
     },
     "execution_count": 2,
     "metadata": {},
     "output_type": "execute_result"
    },
    {
     "data": {
      "text/plain": [
       "conv2_2: 128 128 3 3\n",
       "conv3_1: 256 128 3 3\n",
       "conv3_2: 256 256 3 3\n"
      ]
     },
     "execution_count": 2,
     "metadata": {},
     "output_type": "execute_result"
    },
    {
     "data": {
      "text/plain": [
       "conv3_3: 256 256 3 3\n"
      ]
     },
     "execution_count": 2,
     "metadata": {},
     "output_type": "execute_result"
    },
    {
     "data": {
      "text/plain": [
       "conv4_1: 512 256 3 3\n"
      ]
     },
     "execution_count": 2,
     "metadata": {},
     "output_type": "execute_result"
    },
    {
     "data": {
      "text/plain": [
       "conv4_2: 512 512 3 3\n"
      ]
     },
     "execution_count": 2,
     "metadata": {},
     "output_type": "execute_result"
    },
    {
     "data": {
      "text/plain": [
       "conv4_3: 512 512 3 3\n"
      ]
     },
     "execution_count": 2,
     "metadata": {},
     "output_type": "execute_result"
    },
    {
     "data": {
      "text/plain": [
       "conv5_1: 512 512 3 3\n"
      ]
     },
     "execution_count": 2,
     "metadata": {},
     "output_type": "execute_result"
    },
    {
     "data": {
      "text/plain": [
       "conv5_2: 512 512 3 3\n"
      ]
     },
     "execution_count": 2,
     "metadata": {},
     "output_type": "execute_result"
    },
    {
     "data": {
      "text/plain": [
       "conv5_3: 512 512 3 3\n"
      ]
     },
     "execution_count": 2,
     "metadata": {},
     "output_type": "execute_result"
    },
    {
     "data": {
      "text/plain": [
       "fc6: 1 1 25088 4096\n"
      ]
     },
     "execution_count": 2,
     "metadata": {},
     "output_type": "execute_result"
    },
    {
     "data": {
      "text/plain": [
       "fc7: 1 1 4096 4096\n"
      ]
     },
     "execution_count": 2,
     "metadata": {},
     "output_type": "execute_result"
    },
    {
     "data": {
      "text/plain": [
       "fc8: 1 1 4096 1000\n"
      ]
     },
     "execution_count": 2,
     "metadata": {},
     "output_type": "execute_result"
    },
    {
     "data": {
      "text/plain": [
       "VGGnet5\n",
       "nn.Sequential {\n",
       "  [input -> (1) -> (2) -> (3) -> (4) -> (5) -> (6) -> (7) -> (8) -> (9) -> (10) -> (11) -> (12) -> (13) -> (14) -> (15) -> (16) -> (17) -> (18) -> (19) -> (20) -> (21) -> (22) -> (23) -> (24) -> (25) -> (26) -> (27) -> (28) -> (29) -> (30) -> (31) -> (32) -> (33) -> (34) -> (35) -> (36) -> (37) -> (38) -> (39) -> (40) -> output]\n",
       "  (1): nn.SpatialConvolution(3 -> 64, 3x3, 1,1, 1,1)\n",
       "  (2): nn.ReLU\n",
       "  (3): nn.SpatialConvolution(64 -> 64, 3x3, 1,1, 1,1)\n",
       "  (4): nn.ReLU\n",
       "  (5): nn.SpatialMaxPooling(2,2,2,2)\n",
       "  (6): nn.SpatialConvolution(64 -> 128, 3x3, 1,1, 1,1)\n",
       "  (7): nn.ReLU\n",
       "  (8): nn.SpatialConvolution(128 -> 128, 3x3, 1,1, 1,1)\n",
       "  (9): nn.ReLU\n",
       "  (10): nn.SpatialMaxPooling(2,2,2,2)\n",
       "  (11): nn.SpatialConvolution(128 -> 256, 3x3, 1,1, 1,1)\n",
       "  (12): nn.ReLU\n",
       "  (13): nn.SpatialConvolution(256 -> 256, 3x3, 1,1, 1,1)\n",
       "  (14): nn.ReLU\n",
       "  (15): nn.SpatialConvolution(256 -> 256, 3x3, 1,1, 1,1)\n",
       "  (16): nn.ReLU\n",
       "  (17): nn.SpatialMaxPooling(2,2,2,2)\n",
       "  (18): nn.SpatialConvolution(256 -> 512, 3x3, 1,1, 1,1)\n",
       "  (19): nn.ReLU\n",
       "  (20): nn.SpatialConvolution(512 -> 512, 3x3, 1,1, 1,1)\n",
       "  (21): nn.ReLU\n",
       "  (22): nn.SpatialConvolution(512 -> 512, 3x3, 1,1, 1,1)\n",
       "  (23): nn.ReLU\n",
       "  (24): nn.SpatialMaxPooling(2,2,2,2)\n",
       "  (25): nn.SpatialConvolution(512 -> 512, 3x3, 1,1, 1,1)\n",
       "  (26): nn.ReLU\n",
       "  (27): nn.SpatialConvolution(512 -> 512, 3x3, 1,1, 1,1)\n",
       "  (28): nn.ReLU\n",
       "  (29): nn.SpatialConvolution(512 -> 512, 3x3, 1,1, 1,1)\n",
       "  (30): nn.ReLU\n",
       "  (31): nn.SpatialMaxPooling(2,2,2,2)\n",
       "  (32): nn.View(-1)\n",
       "  (33): nn.Linear(25088 -> 4096)\n",
       "  (34): nn.ReLU\n",
       "  (35): nn.Dropout(0.500000)\n",
       "  (36): nn.Linear(4096 -> 4096)\n",
       "  (37): nn.ReLU\n",
       "  (38): nn.Dropout(0.500000)\n",
       "  (39): nn.Linear(4096 -> 1000)\n",
       "  (40): nn.SoftMax\n",
       "}\t\n"
      ]
     },
     "execution_count": 2,
     "metadata": {},
     "output_type": "execute_result"
    }
   ],
   "source": [
    "VGG_net = load_VGG();\n",
    "print('VGGnet5\\n' .. VGG_net:__tostring());"
   ]
  },
  {
   "cell_type": "code",
   "execution_count": 3,
   "metadata": {
    "collapsed": false
   },
   "outputs": [
    {
     "data": {
      "text/plain": [
       "1) Converting file: test_1702.JPEG\t\n"
      ]
     },
     "execution_count": 3,
     "metadata": {},
     "output_type": "execute_result"
    },
    {
     "data": {
      "text/plain": [
       "2) Converting file: test_2484.JPEG\t\n"
      ]
     },
     "execution_count": 3,
     "metadata": {},
     "output_type": "execute_result"
    },
    {
     "data": {
      "text/plain": [
       "3) Converting file: test_6043.JPEG\t\n"
      ]
     },
     "execution_count": 3,
     "metadata": {},
     "output_type": "execute_result"
    }
   ],
   "source": [
    "local layer_nums = {3,9}\n",
    "local num_images = 4;\n",
    "hc_dataset = create_hypercolumn_dataset(num_images, layer_nums)\n",
    "hc_file_name = '../../Data/tiny-imagenet-200/test/hc/test.t7'\n"
   ]
  },
  {
   "cell_type": "code",
   "execution_count": 4,
   "metadata": {
    "collapsed": false
   },
   "outputs": [
    {
     "data": {
      "text/plain": [
       "\n"
      ]
     },
     "execution_count": 4,
     "metadata": {},
     "output_type": "execute_result"
    }
   ],
   "source": [
    "torch.save(hc_file_name, hc_dataset)"
   ]
  },
  {
   "cell_type": "code",
   "execution_count": 5,
   "metadata": {
    "collapsed": false
   },
   "outputs": [
    {
     "data": {
      "text/plain": [
       "{\n",
       "  hypercolumns : DoubleTensor - size: 4x192x112x112\n",
       "  images : DoubleTensor - size: 4x3x64x64\n",
       "}\n"
      ]
     },
     "execution_count": 5,
     "metadata": {},
     "output_type": "execute_result"
    }
   ],
   "source": [
    "print(hc_dataset)"
   ]
  },
  {
   "cell_type": "code",
   "execution_count": 7,
   "metadata": {
    "collapsed": false
   },
   "outputs": [
    {
     "ename": "/home/kedart/torch/install/share/lua/5.1/image/init.lua:650: attempt to index local 'src' (a nil value)\nstack traceback:\n\t/home/kedart/torch/install/share/lua/5.1/image/init.lua:650: in function 'scale'\n\t./VGG.lua:16: in function 'preprocess'\n\t[string \"p_img = preprocess(im1)...\"]:1: in main chunk\n\t[C]: in function 'xpcall'\n\t/home/kedart/torch/install/share/lua/5.1/itorch/main.lua:209: in function </home/kedart/torch/install/share/lua/5.1/itorch/main.lua:173>\n\t/home/kedart/torch/install/share/lua/5.1/lzmq/poller.lua:75: in function 'poll'\n\t/home/kedart/torch/install/share/lua/5.1/lzmq/impl/loop.lua:307: in function 'poll'\n\t/home/kedart/torch/install/share/lua/5.1/lzmq/impl/loop.lua:325: in function 'sleep_ex'\n\t/home/kedart/torch/install/share/lua/5.1/lzmq/impl/loop.lua:370: in function 'start'\n\t/home/kedart/torch/install/share/lua/5.1/itorch/main.lua:381: in main chunk\n\t[C]: in function 'require'\n\t(command line):1: in main chunk\n\t[C]: at 0x00406670",
     "evalue": "",
     "output_type": "error",
     "traceback": [
      "/home/kedart/torch/install/share/lua/5.1/image/init.lua:650: attempt to index local 'src' (a nil value)\nstack traceback:\n\t/home/kedart/torch/install/share/lua/5.1/image/init.lua:650: in function 'scale'\n\t./VGG.lua:16: in function 'preprocess'\n\t[string \"p_img = preprocess(im1)...\"]:1: in main chunk\n\t[C]: in function 'xpcall'\n\t/home/kedart/torch/install/share/lua/5.1/itorch/main.lua:209: in function </home/kedart/torch/install/share/lua/5.1/itorch/main.lua:173>\n\t/home/kedart/torch/install/share/lua/5.1/lzmq/poller.lua:75: in function 'poll'\n\t/home/kedart/torch/install/share/lua/5.1/lzmq/impl/loop.lua:307: in function 'poll'\n\t/home/kedart/torch/install/share/lua/5.1/lzmq/impl/loop.lua:325: in function 'sleep_ex'\n\t/home/kedart/torch/install/share/lua/5.1/lzmq/impl/loop.lua:370: in function 'start'\n\t/home/kedart/torch/install/share/lua/5.1/itorch/main.lua:381: in main chunk\n\t[C]: in function 'require'\n\t(command line):1: in main chunk\n\t[C]: at 0x00406670"
     ]
    }
   ],
   "source": [
    "p_img = preprocess(im1)\n",
    "itorch.image(p_img);"
   ]
  },
  {
   "cell_type": "code",
   "execution_count": 8,
   "metadata": {
    "collapsed": false
   },
   "outputs": [
    {
     "ename": "...kkumarbagaria/torch/install/share/lua/5.1/image/init.lua:650: attempt to index local 'src' (a nil value)\nstack traceback:\n\t...kkumarbagaria/torch/install/share/lua/5.1/image/init.lua:650: in function 'scale'\n\t./VGG.lua:16: in function 'preprocess'\n\t./VGG.lua:30: in function 'VGG_forward_test'\n\t[string \"top_classes = VGG_forward_test(im1,VGG_net);...\"]:1: in main chunk\n\t[C]: in function 'xpcall'\n\t...kumarbagaria/torch/install/share/lua/5.1/itorch/main.lua:209: in function <...kumarbagaria/torch/install/share/lua/5.1/itorch/main.lua:173>\n\t...kumarbagaria/torch/install/share/lua/5.1/lzmq/poller.lua:75: in function 'poll'\n\t...arbagaria/torch/install/share/lua/5.1/lzmq/impl/loop.lua:307: in function 'poll'\n\t...arbagaria/torch/install/share/lua/5.1/lzmq/impl/loop.lua:325: in function 'sleep_ex'\n\t...arbagaria/torch/install/share/lua/5.1/lzmq/impl/loop.lua:370: in function 'start'\n\t...kumarbagaria/torch/install/share/lua/5.1/itorch/main.lua:381: in main chunk\n\t[C]: in function 'require'\n\t(command line):1: in main chunk\n\t[C]: at 0x010d79bba0",
     "evalue": "",
     "output_type": "error",
     "traceback": [
      "...kkumarbagaria/torch/install/share/lua/5.1/image/init.lua:650: attempt to index local 'src' (a nil value)\nstack traceback:\n\t...kkumarbagaria/torch/install/share/lua/5.1/image/init.lua:650: in function 'scale'\n\t./VGG.lua:16: in function 'preprocess'\n\t./VGG.lua:30: in function 'VGG_forward_test'\n\t[string \"top_classes = VGG_forward_test(im1,VGG_net);...\"]:1: in main chunk\n\t[C]: in function 'xpcall'\n\t...kumarbagaria/torch/install/share/lua/5.1/itorch/main.lua:209: in function <...kumarbagaria/torch/install/share/lua/5.1/itorch/main.lua:173>\n\t...kumarbagaria/torch/install/share/lua/5.1/lzmq/poller.lua:75: in function 'poll'\n\t...arbagaria/torch/install/share/lua/5.1/lzmq/impl/loop.lua:307: in function 'poll'\n\t...arbagaria/torch/install/share/lua/5.1/lzmq/impl/loop.lua:325: in function 'sleep_ex'\n\t...arbagaria/torch/install/share/lua/5.1/lzmq/impl/loop.lua:370: in function 'start'\n\t...kumarbagaria/torch/install/share/lua/5.1/itorch/main.lua:381: in main chunk\n\t[C]: in function 'require'\n\t(command line):1: in main chunk\n\t[C]: at 0x010d79bba0"
     ]
    }
   ],
   "source": [
    "top_classes = VGG_forward_test(im1,VGG_net);\n",
    "--prob_1,classes_1 = net:forward(p_img):view(-1):sort(true)\n",
    "--print(prob)\n",
    "--classes5 = VGG_forward(im1,VGG_net)\n",
    "print(top_classes);"
   ]
  },
  {
   "cell_type": "code",
   "execution_count": null,
   "metadata": {
    "collapsed": false
   },
   "outputs": [],
   "source": [
    "layer_nums = {2,3}\n",
    "hc = get_VGG_hypercolumns(im_batch,VGG_net,layer_nums)"
   ]
  },
  {
   "cell_type": "code",
   "execution_count": null,
   "metadata": {
    "collapsed": false
   },
   "outputs": [],
   "source": [
    "scaled_layer = image.scale(hc,224,224,'simple')\n",
    "itorch.image(scaled_layer)"
   ]
  },
  {
   "cell_type": "code",
   "execution_count": null,
   "metadata": {
    "collapsed": false,
    "scrolled": true
   },
   "outputs": [],
   "source": [
    "require \"lfs\"\n",
    "local image_dir = '../../Data/tiny-imagenet-200/test/images'\n",
    "local max_count = 10;\n",
    "local count = 0;\n",
    "local hc = nil;\n",
    "for file in lfs.dir(image_dir) do\n",
    "    if string.match(file, \".JPEG\") then\n",
    "        if count == max_count then\n",
    "            break;\n",
    "        end\n",
    "        count = count + 1;\n",
    "        print( \"Found file: \" .. file )\n",
    "        hc_temp = get_VGG_hypercolumns(im1,VGG_net,layer_nums)\n",
    "        hc = torch.cat(hc,hc_temp)\n",
    "    end\n",
    "end"
   ]
  },
  {
   "cell_type": "code",
   "execution_count": 2,
   "metadata": {
    "collapsed": false
   },
   "outputs": [
    {
     "data": {
      "text/plain": [
       " 1.4917e-154  1.4917e-154  4.2726e+180\n",
       " 2.9124e+257  5.5611e+180  2.1639e+190\n",
       "[torch.DoubleTensor of size 2x3]\n",
       "\n"
      ]
     },
     "execution_count": 2,
     "metadata": {},
     "output_type": "execute_result"
    }
   ],
   "source": [
    "a = torch.Tensor(2,3)\n",
    "print(a)"
   ]
  },
  {
   "cell_type": "code",
   "execution_count": null,
   "metadata": {
    "collapsed": true
   },
   "outputs": [],
   "source": []
  }
 ],
 "metadata": {
  "kernelspec": {
   "display_name": "iTorch",
   "language": "lua",
   "name": "itorch"
  },
  "language_info": {
   "name": "lua",
   "version": "5.1"
  }
 },
 "nbformat": 4,
 "nbformat_minor": 0
}
