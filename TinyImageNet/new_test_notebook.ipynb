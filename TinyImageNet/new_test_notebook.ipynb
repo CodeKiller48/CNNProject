{
 "cells": [
  {
   "cell_type": "code",
   "execution_count": 1,
   "metadata": {
    "collapsed": false
   },
   "outputs": [],
   "source": [
    "require 'VGG';"
   ]
  },
  {
   "cell_type": "code",
   "execution_count": 2,
   "metadata": {
    "collapsed": false
   },
   "outputs": [
    {
     "data": {
      "text/plain": [
       "Successfully loaded ../../Data/VGG_caffe/VGG_ILSVRC_16_layers.caffemodel\n"
      ]
     },
     "execution_count": 2,
     "metadata": {},
     "output_type": "execute_result"
    },
    {
     "data": {
      "text/plain": [
       "conv1_1: 64 3 3 3\n",
       "conv1_2: 64 64 3 3\n",
       "conv2_1: 128 64 3 3\n",
       "conv2_2: 128 128 3 3\n",
       "conv3_1: 256 128 3 3\n"
      ]
     },
     "execution_count": 2,
     "metadata": {},
     "output_type": "execute_result"
    },
    {
     "data": {
      "text/plain": [
       "conv3_2: 256 256 3 3\n"
      ]
     },
     "execution_count": 2,
     "metadata": {},
     "output_type": "execute_result"
    },
    {
     "data": {
      "text/plain": [
       "conv3_3: 256 256 3 3\n"
      ]
     },
     "execution_count": 2,
     "metadata": {},
     "output_type": "execute_result"
    },
    {
     "data": {
      "text/plain": [
       "conv4_1: 512 256 3 3\n"
      ]
     },
     "execution_count": 2,
     "metadata": {},
     "output_type": "execute_result"
    },
    {
     "data": {
      "text/plain": [
       "conv4_2: 512 512 3 3\n"
      ]
     },
     "execution_count": 2,
     "metadata": {},
     "output_type": "execute_result"
    },
    {
     "data": {
      "text/plain": [
       "conv4_3: 512 512 3 3\n"
      ]
     },
     "execution_count": 2,
     "metadata": {},
     "output_type": "execute_result"
    },
    {
     "data": {
      "text/plain": [
       "conv5_1: 512 512 3 3\n"
      ]
     },
     "execution_count": 2,
     "metadata": {},
     "output_type": "execute_result"
    },
    {
     "data": {
      "text/plain": [
       "conv5_2: 512 512 3 3\n"
      ]
     },
     "execution_count": 2,
     "metadata": {},
     "output_type": "execute_result"
    },
    {
     "data": {
      "text/plain": [
       "conv5_3: 512 512 3 3\n"
      ]
     },
     "execution_count": 2,
     "metadata": {},
     "output_type": "execute_result"
    },
    {
     "data": {
      "text/plain": [
       "fc6: 1 1 25088 4096\n"
      ]
     },
     "execution_count": 2,
     "metadata": {},
     "output_type": "execute_result"
    },
    {
     "data": {
      "text/plain": [
       "fc7: 1 1 4096 4096\n"
      ]
     },
     "execution_count": 2,
     "metadata": {},
     "output_type": "execute_result"
    },
    {
     "data": {
      "text/plain": [
       "fc8: 1 1 4096 1000\n"
      ]
     },
     "execution_count": 2,
     "metadata": {},
     "output_type": "execute_result"
    }
   ],
   "source": [
    "VGG_net = load_VGG();"
   ]
  },
  {
   "cell_type": "code",
   "execution_count": 6,
   "metadata": {
    "collapsed": false
   },
   "outputs": [
    {
     "data": {
      "text/plain": [
       "Found file: test_4255.JPEG\t\n"
      ]
     },
     "execution_count": 6,
     "metadata": {},
     "output_type": "execute_result"
    },
    {
     "data": {
      "text/plain": [
       "2\t\n"
      ]
     },
     "execution_count": 6,
     "metadata": {},
     "output_type": "execute_result"
    },
    {
     "data": {
      "text/plain": [
       "Found file: test_3029.JPEG\t\n"
      ]
     },
     "execution_count": 6,
     "metadata": {},
     "output_type": "execute_result"
    },
    {
     "data": {
      "text/plain": [
       "2\t\n"
      ]
     },
     "execution_count": 6,
     "metadata": {},
     "output_type": "execute_result"
    },
    {
     "data": {
      "text/plain": [
       "Found file: test_3094.JPEG\t\n"
      ]
     },
     "execution_count": 6,
     "metadata": {},
     "output_type": "execute_result"
    },
    {
     "data": {
      "text/plain": [
       "2\t\n"
      ]
     },
     "execution_count": 6,
     "metadata": {},
     "output_type": "execute_result"
    },
    {
     "data": {
      "text/plain": [
       "Found file: test_8751.JPEG\t\n"
      ]
     },
     "execution_count": 6,
     "metadata": {},
     "output_type": "execute_result"
    },
    {
     "data": {
      "text/plain": [
       "2\t\n"
      ]
     },
     "execution_count": 6,
     "metadata": {},
     "output_type": "execute_result"
    }
   ],
   "source": [
    "-- TODO\n",
    "-- 1) 56x56 image\n",
    "-- 2) Better ImageNET dataset (Yair)\n",
    "-- 3) YUV converted Image\n",
    "-- 4) Create this dictionary and save the hypercolumns\n",
    "\n",
    "require \"lfs\"\n",
    "local image_dir = '../../Data/tiny-imagenet-200/test/images/'\n",
    "local max_count = 5;\n",
    "local count = 1;\n",
    "hc_batch = nil;\n",
    "local im_batch = nil\n",
    "local layer_nums = {2,3}\n",
    "\n",
    "for file in lfs.dir(image_dir) do\n",
    "    if string.match(file, \".JPEG\") then\n",
    "        print( \"Found file: \" .. file )\n",
    "        image_path = image_dir .. file\n",
    "        \n",
    "        local im = image.load(image_path);\n",
    "        \n",
    "        local hc_temp = get_VGG_hypercolumns(im,VGG_net,layer_nums)\n",
    "        local hc_size = hc_temp:size();\n",
    "        hc_temp = hc_temp:reshape(1,hc_size[1], hc_size[2], hc_size[3] );\n",
    "        \n",
    "        if count == 1 then\n",
    "            hc_batch = hc_temp\n",
    "        end\n",
    "        \n",
    "        hc_batch = torch.cat(hc_batch, hc_temp,1)\n",
    "        \n",
    "        if count == (max_count-1) then\n",
    "            break;\n",
    "        end\n",
    "        count = count + 1;\n",
    "        \n",
    "    end\n",
    "end"
   ]
  },
  {
   "cell_type": "code",
   "execution_count": 7,
   "metadata": {
    "collapsed": false
   },
   "outputs": [
    {
     "data": {
      "text/plain": [
       "   5\n",
       " 128\n",
       " 224\n",
       " 224\n",
       "[torch.LongStorage of size 4]\n",
       "\n"
      ]
     },
     "execution_count": 7,
     "metadata": {},
     "output_type": "execute_result"
    }
   ],
   "source": [
    "print(hc_batch:size())"
   ]
  },
  {
   "cell_type": "code",
   "execution_count": null,
   "metadata": {
    "collapsed": true
   },
   "outputs": [],
   "source": []
  },
  {
   "cell_type": "code",
   "execution_count": null,
   "metadata": {
    "collapsed": false
   },
   "outputs": [],
   "source": [
    "image_name = '../../Data/tiny-imagenet-200/test/images/test_4.JPEG'\n",
    "im1 = image.load(image_name) -- loading the image\n",
    "itorch.image(im1);"
   ]
  },
  {
   "cell_type": "code",
   "execution_count": null,
   "metadata": {
    "collapsed": false
   },
   "outputs": [],
   "source": [
    "p_img = preprocess(im1)\n",
    "itorch.image(p_img);"
   ]
  },
  {
   "cell_type": "code",
   "execution_count": null,
   "metadata": {
    "collapsed": false
   },
   "outputs": [],
   "source": [
    "top_classes = VGG_forward_test(im1,VGG_net);\n",
    "--prob_1,classes_1 = net:forward(p_img):view(-1):sort(true)\n",
    "--print(prob)\n",
    "--classes5 = VGG_forward(im1,VGG_net)\n",
    "print(top_classes);"
   ]
  },
  {
   "cell_type": "code",
   "execution_count": null,
   "metadata": {
    "collapsed": false
   },
   "outputs": [],
   "source": [
    "layer_nums = {2,3}\n",
    "hc = get_VGG_hypercolumns(im_batch,VGG_net,layer_nums)"
   ]
  },
  {
   "cell_type": "code",
   "execution_count": null,
   "metadata": {
    "collapsed": false
   },
   "outputs": [],
   "source": [
    "scaled_layer = image.scale(hc,224,224,'simple')\n",
    "itorch.image(scaled_layer)"
   ]
  },
  {
   "cell_type": "code",
   "execution_count": null,
   "metadata": {
    "collapsed": false,
    "scrolled": true
   },
   "outputs": [],
   "source": [
    "require \"lfs\"\n",
    "local image_dir = '../../Data/tiny-imagenet-200/test/images'\n",
    "local max_count = 10;\n",
    "local count = 0;\n",
    "local hc = nil;\n",
    "for file in lfs.dir(image_dir) do\n",
    "    if string.match(file, \".JPEG\") then\n",
    "        if count == max_count then\n",
    "            break;\n",
    "        end\n",
    "        count = count + 1;\n",
    "        print( \"Found file: \" .. file )\n",
    "        hc_temp = get_VGG_hypercolumns(im1,VGG_net,layer_nums)\n",
    "        hc = torch.cat(hc,hc_temp)\n",
    "    end\n",
    "end"
   ]
  },
  {
   "cell_type": "code",
   "execution_count": null,
   "metadata": {
    "collapsed": true
   },
   "outputs": [],
   "source": []
  }
 ],
 "metadata": {
  "kernelspec": {
   "display_name": "iTorch",
   "language": "lua",
   "name": "itorch"
  },
  "language_info": {
   "name": "lua",
   "version": "5.1"
  }
 },
 "nbformat": 4,
 "nbformat_minor": 0
}
