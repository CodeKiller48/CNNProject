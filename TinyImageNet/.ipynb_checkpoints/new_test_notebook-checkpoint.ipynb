{
 "cells": [
  {
   "cell_type": "code",
   "execution_count": 2,
   "metadata": {
    "collapsed": false
   },
   "outputs": [],
   "source": [
    "require 'VGG';"
   ]
  },
  {
   "cell_type": "code",
   "execution_count": 3,
   "metadata": {
    "collapsed": false
   },
   "outputs": [
    {
     "data": {
      "text/plain": [
       "Successfully loaded ../../Data/VGG_caffe/VGG_ILSVRC_16_layers.caffemodel\n"
      ]
     },
     "execution_count": 3,
     "metadata": {},
     "output_type": "execute_result"
    },
    {
     "data": {
      "text/plain": [
       "conv1_1: 64 3 3 3\n",
       "conv1_2: 64 64 3 3\n"
      ]
     },
     "execution_count": 3,
     "metadata": {},
     "output_type": "execute_result"
    },
    {
     "data": {
      "text/plain": [
       "conv2_1: 128 64 3 3\n",
       "conv2_2: 128 128 3 3\n",
       "conv3_1: 256 128 3 3\n"
      ]
     },
     "execution_count": 3,
     "metadata": {},
     "output_type": "execute_result"
    },
    {
     "data": {
      "text/plain": [
       "conv3_2: 256 256 3 3\n"
      ]
     },
     "execution_count": 3,
     "metadata": {},
     "output_type": "execute_result"
    },
    {
     "data": {
      "text/plain": [
       "conv3_3: 256 256 3 3\n"
      ]
     },
     "execution_count": 3,
     "metadata": {},
     "output_type": "execute_result"
    },
    {
     "data": {
      "text/plain": [
       "conv4_1: 512 256 3 3\n"
      ]
     },
     "execution_count": 3,
     "metadata": {},
     "output_type": "execute_result"
    },
    {
     "data": {
      "text/plain": [
       "conv4_2: 512 512 3 3\n"
      ]
     },
     "execution_count": 3,
     "metadata": {},
     "output_type": "execute_result"
    },
    {
     "data": {
      "text/plain": [
       "conv4_3: 512 512 3 3\n"
      ]
     },
     "execution_count": 3,
     "metadata": {},
     "output_type": "execute_result"
    },
    {
     "data": {
      "text/plain": [
       "conv5_1: 512 512 3 3\n"
      ]
     },
     "execution_count": 3,
     "metadata": {},
     "output_type": "execute_result"
    },
    {
     "data": {
      "text/plain": [
       "conv5_2: 512 512 3 3\n"
      ]
     },
     "execution_count": 3,
     "metadata": {},
     "output_type": "execute_result"
    },
    {
     "data": {
      "text/plain": [
       "conv5_3: 512 512 3 3\n"
      ]
     },
     "execution_count": 3,
     "metadata": {},
     "output_type": "execute_result"
    },
    {
     "data": {
      "text/plain": [
       "fc6: 1 1 25088 4096\n"
      ]
     },
     "execution_count": 3,
     "metadata": {},
     "output_type": "execute_result"
    },
    {
     "data": {
      "text/plain": [
       "fc7: 1 1 4096 4096\n"
      ]
     },
     "execution_count": 3,
     "metadata": {},
     "output_type": "execute_result"
    },
    {
     "data": {
      "text/plain": [
       "fc8: 1 1 4096 1000\n"
      ]
     },
     "execution_count": 3,
     "metadata": {},
     "output_type": "execute_result"
    },
    {
     "data": {
      "text/plain": [
       "VGGnet5\n",
       "nn.Sequential {\n",
       "  [input -> (1) -> (2) -> (3) -> (4) -> (5) -> (6) -> (7) -> (8) -> (9) -> (10) -> (11) -> (12) -> (13) -> (14) -> (15) -> (16) -> (17) -> (18) -> (19) -> (20) -> (21) -> (22) -> (23) -> (24) -> (25) -> (26) -> (27) -> (28) -> (29) -> (30) -> (31) -> (32) -> (33) -> (34) -> (35) -> (36) -> (37) -> (38) -> (39) -> (40) -> output]\n",
       "  (1): nn.SpatialConvolution(3 -> 64, 3x3, 1,1, 1,1)\n",
       "  (2): nn.ReLU\n",
       "  (3): nn.SpatialConvolution(64 -> 64, 3x3, 1,1, 1,1)\n",
       "  (4): nn.ReLU\n",
       "  (5): nn.SpatialMaxPooling(2,2,2,2)\n",
       "  (6): nn.SpatialConvolution(64 -> 128, 3x3, 1,1, 1,1)\n",
       "  (7): nn.ReLU\n",
       "  (8): nn.SpatialConvolution(128 -> 128, 3x3, 1,1, 1,1)\n",
       "  (9): nn.ReLU\n",
       "  (10): nn.SpatialMaxPooling(2,2,2,2)\n",
       "  (11): nn.SpatialConvolution(128 -> 256, 3x3, 1,1, 1,1)\n",
       "  (12): nn.ReLU\n",
       "  (13): nn.SpatialConvolution(256 -> 256, 3x3, 1,1, 1,1)\n",
       "  (14): nn.ReLU\n",
       "  (15): nn.SpatialConvolution(256 -> 256, 3x3, 1,1, 1,1)\n",
       "  (16): nn.ReLU\n",
       "  (17): nn.SpatialMaxPooling(2,2,2,2)\n",
       "  (18): nn.SpatialConvolution(256 -> 512, 3x3, 1,1, 1,1)\n",
       "  (19): nn.ReLU\n",
       "  (20): nn.SpatialConvolution(512 -> 512, 3x3, 1,1, 1,1)\n",
       "  (21): nn.ReLU\n",
       "  (22): nn.SpatialConvolution(512 -> 512, 3x3, 1,1, 1,1)\n",
       "  (23): nn.ReLU\n",
       "  (24): nn.SpatialMaxPooling(2,2,2,2)\n",
       "  (25): nn.SpatialConvolution(512 -> 512, 3x3, 1,1, 1,1)\n",
       "  (26): nn.ReLU\n",
       "  (27): nn.SpatialConvolution(512 -> 512, 3x3, 1,1, 1,1)\n",
       "  (28): nn.ReLU\n",
       "  (29): nn.SpatialConvolution(512 -> 512, 3x3, 1,1, 1,1)\n",
       "  (30): nn.ReLU\n",
       "  (31): nn.SpatialMaxPooling(2,2,2,2)\n",
       "  (32): nn.View(-1)\n",
       "  (33): nn.Linear(25088 -> 4096)\n",
       "  (34): nn.ReLU\n",
       "  (35): nn.Dropout(0.500000)\n",
       "  (36): nn.Linear(4096 -> 4096)\n",
       "  (37): nn.ReLU\n",
       "  (38): nn.Dropout(0.500000)\n",
       "  (39): nn.Linear(4096 -> 1000)\n",
       "  (40): nn.SoftMax\n",
       "}\t\n"
      ]
     },
     "execution_count": 3,
     "metadata": {},
     "output_type": "execute_result"
    }
   ],
   "source": [
    "VGG_net = load_VGG();\n",
    "print('VGGnet5\\n' .. VGG_net:__tostring());"
   ]
  },
  {
   "cell_type": "code",
   "execution_count": null,
   "metadata": {
    "collapsed": false
   },
   "outputs": [
    {
     "data": {
      "text/plain": [
       "1) Converting file: test_0.JPEG\t\n"
      ]
     },
     "execution_count": 4,
     "metadata": {},
     "output_type": "execute_result"
    },
    {
     "data": {
      "text/plain": [
       "2) Converting file: test_1.JPEG\t\n"
      ]
     },
     "execution_count": 4,
     "metadata": {},
     "output_type": "execute_result"
    },
    {
     "data": {
      "text/plain": [
       "3) Converting file: test_10.JPEG\t\n"
      ]
     },
     "execution_count": 4,
     "metadata": {},
     "output_type": "execute_result"
    },
    {
     "data": {
      "text/plain": [
       "4) Converting file: test_100.JPEG\t\n"
      ]
     },
     "execution_count": 4,
     "metadata": {},
     "output_type": "execute_result"
    },
    {
     "data": {
      "text/plain": [
       "5) Converting file: test_1000.JPEG\t\n"
      ]
     },
     "execution_count": 4,
     "metadata": {},
     "output_type": "execute_result"
    },
    {
     "data": {
      "text/plain": [
       "6) Converting file: test_1001.JPEG\t\n"
      ]
     },
     "execution_count": 4,
     "metadata": {},
     "output_type": "execute_result"
    },
    {
     "data": {
      "text/plain": [
       "7) Converting file: test_1002.JPEG\t\n"
      ]
     },
     "execution_count": 4,
     "metadata": {},
     "output_type": "execute_result"
    },
    {
     "data": {
      "text/plain": [
       "8) Converting file: test_1003.JPEG\t\n"
      ]
     },
     "execution_count": 4,
     "metadata": {},
     "output_type": "execute_result"
    },
    {
     "data": {
      "text/plain": [
       "9) Converting file: test_1004.JPEG\t\n"
      ]
     },
     "execution_count": 4,
     "metadata": {},
     "output_type": "execute_result"
    },
    {
     "data": {
      "text/plain": [
       "10) Converting file: test_1005.JPEG\t\n"
      ]
     },
     "execution_count": 4,
     "metadata": {},
     "output_type": "execute_result"
    },
    {
     "data": {
      "text/plain": [
       "11) Converting file: test_1006.JPEG\t\n"
      ]
     },
     "execution_count": 4,
     "metadata": {},
     "output_type": "execute_result"
    },
    {
     "data": {
      "text/plain": [
       "12) Converting file: test_1007.JPEG\t\n"
      ]
     },
     "execution_count": 4,
     "metadata": {},
     "output_type": "execute_result"
    },
    {
     "data": {
      "text/plain": [
       "13) Converting file: test_1008.JPEG\t\n"
      ]
     },
     "execution_count": 4,
     "metadata": {},
     "output_type": "execute_result"
    },
    {
     "data": {
      "text/plain": [
       "14) Converting file: test_1009.JPEG\t\n"
      ]
     },
     "execution_count": 4,
     "metadata": {},
     "output_type": "execute_result"
    }
   ],
   "source": [
    "local layer_nums = {9,16}\n",
    "local num_images = 16;\n",
    "hc_dataset = create_hypercolumn_dataset(num_images, layer_nums)\n",
    "hc_file_name = '../../Data/tiny-imagenet-200/test/hc/test.t7'\n",
    "torch.save(hc_file_name, hc_dataset)"
   ]
  },
  {
   "cell_type": "code",
   "execution_count": null,
   "metadata": {
    "collapsed": false
   },
   "outputs": [],
   "source": [
    "print(hc_dataset)"
   ]
  },
  {
   "cell_type": "code",
   "execution_count": null,
   "metadata": {
    "collapsed": false
   },
   "outputs": [],
   "source": [
    "p_img = preprocess(im1)\n",
    "itorch.image(p_img);"
   ]
  },
  {
   "cell_type": "code",
   "execution_count": null,
   "metadata": {
    "collapsed": false
   },
   "outputs": [],
   "source": [
    "top_classes = VGG_forward_test(im1,VGG_net);\n",
    "--prob_1,classes_1 = net:forward(p_img):view(-1):sort(true)\n",
    "--print(prob)\n",
    "--classes5 = VGG_forward(im1,VGG_net)\n",
    "print(top_classes);"
   ]
  },
  {
   "cell_type": "code",
   "execution_count": null,
   "metadata": {
    "collapsed": false
   },
   "outputs": [],
   "source": [
    "layer_nums = {2,3}\n",
    "hc = get_VGG_hypercolumns(im_batch,VGG_net,layer_nums)"
   ]
  },
  {
   "cell_type": "code",
   "execution_count": null,
   "metadata": {
    "collapsed": false
   },
   "outputs": [],
   "source": [
    "scaled_layer = image.scale(hc,224,224,'simple')\n",
    "itorch.image(scaled_layer)"
   ]
  },
  {
   "cell_type": "code",
   "execution_count": null,
   "metadata": {
    "collapsed": false,
    "scrolled": true
   },
   "outputs": [],
   "source": [
    "require \"lfs\"\n",
    "local image_dir = '../../Data/tiny-imagenet-200/test/images'\n",
    "local max_count = 10;\n",
    "local count = 0;\n",
    "local hc = nil;\n",
    "for file in lfs.dir(image_dir) do\n",
    "    if string.match(file, \".JPEG\") then\n",
    "        if count == max_count then\n",
    "            break;\n",
    "        end\n",
    "        count = count + 1;\n",
    "        print( \"Found file: \" .. file )\n",
    "        hc_temp = get_VGG_hypercolumns(im1,VGG_net,layer_nums)\n",
    "        hc = torch.cat(hc,hc_temp)\n",
    "    end\n",
    "end"
   ]
  },
  {
   "cell_type": "code",
   "execution_count": null,
   "metadata": {
    "collapsed": true
   },
   "outputs": [],
   "source": []
  }
 ],
 "metadata": {
  "kernelspec": {
   "display_name": "iTorch",
   "language": "lua",
   "name": "itorch"
  },
  "language_info": {
   "name": "lua",
   "version": "5.1"
  }
 },
 "nbformat": 4,
 "nbformat_minor": 0
}
