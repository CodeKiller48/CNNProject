{
 "cells": [
  {
   "cell_type": "code",
   "execution_count": 1,
   "metadata": {
    "collapsed": false
   },
   "outputs": [],
   "source": [
    "require 'VGG';"
   ]
  },
  {
   "cell_type": "code",
   "execution_count": 2,
   "metadata": {
    "collapsed": false
   },
   "outputs": [],
   "source": [
    "VGG_net = load_VGG();\n",
    "print('VGGnet5\\n' .. VGG_net:__tostring());"
   ]
  },
  {
   "cell_type": "code",
   "execution_count": 3,
   "metadata": {
    "collapsed": false
   },
   "outputs": [],
   "source": [
    "local layer_nums = {9,16}\n",
    "local num_images = 20;\n",
    "hc_dataset = create_hypercolumn_dataset(num_images, layer_nums)\n",
    "hc_file_name = '../../Data/tiny-imagenet-200/test/hc/test.tv'\n",
    "torch.save(hc_file_name, hc_dataset)"
   ]
  },
  {
   "cell_type": "code",
   "execution_count": null,
   "metadata": {
    "collapsed": false
   },
   "outputs": [],
   "source": [
    "print(hc_dataset)"
   ]
  },
  {
   "cell_type": "code",
   "execution_count": null,
   "metadata": {
    "collapsed": false
   },
   "outputs": [],
   "source": [
    "p_img = preprocess(im1)\n",
    "itorch.image(p_img);"
   ]
  },
  {
   "cell_type": "code",
   "execution_count": null,
   "metadata": {
    "collapsed": false
   },
   "outputs": [],
   "source": [
    "top_classes = VGG_forward_test(im1,VGG_net);\n",
    "--prob_1,classes_1 = net:forward(p_img):view(-1):sort(true)\n",
    "--print(prob)\n",
    "--classes5 = VGG_forward(im1,VGG_net)\n",
    "print(top_classes);"
   ]
  },
  {
   "cell_type": "code",
   "execution_count": null,
   "metadata": {
    "collapsed": false
   },
   "outputs": [],
   "source": [
    "layer_nums = {2,3}\n",
    "hc = get_VGG_hypercolumns(im_batch,VGG_net,layer_nums)"
   ]
  },
  {
   "cell_type": "code",
   "execution_count": null,
   "metadata": {
    "collapsed": false
   },
   "outputs": [],
   "source": [
    "scaled_layer = image.scale(hc,224,224,'simple')\n",
    "itorch.image(scaled_layer)"
   ]
  },
  {
   "cell_type": "code",
   "execution_count": null,
   "metadata": {
    "collapsed": false,
    "scrolled": true
   },
   "outputs": [],
   "source": [
    "require \"lfs\"\n",
    "local image_dir = '../../Data/tiny-imagenet-200/test/images'\n",
    "local max_count = 10;\n",
    "local count = 0;\n",
    "local hc = nil;\n",
    "for file in lfs.dir(image_dir) do\n",
    "    if string.match(file, \".JPEG\") then\n",
    "        if count == max_count then\n",
    "            break;\n",
    "        end\n",
    "        count = count + 1;\n",
    "        print( \"Found file: \" .. file )\n",
    "        hc_temp = get_VGG_hypercolumns(im1,VGG_net,layer_nums)\n",
    "        hc = torch.cat(hc,hc_temp)\n",
    "    end\n",
    "end"
   ]
  },
  {
   "cell_type": "code",
   "execution_count": null,
   "metadata": {
    "collapsed": true
   },
   "outputs": [],
   "source": []
  }
 ],
 "metadata": {
  "kernelspec": {
   "display_name": "iTorch",
   "language": "lua",
   "name": "itorch"
  },
  "language_info": {
   "name": "lua",
   "version": "5.1"
  }
 },
 "nbformat": 4,
 "nbformat_minor": 0
}
