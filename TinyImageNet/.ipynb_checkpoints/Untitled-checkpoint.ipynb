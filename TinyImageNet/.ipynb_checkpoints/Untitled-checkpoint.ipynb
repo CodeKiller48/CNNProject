{
 "cells": [
  {
   "cell_type": "code",
   "execution_count": null,
   "metadata": {
    "collapsed": false
   },
   "outputs": [],
   "source": [
    "require 'nngraph'\n",
    "require 'gnuplot'\n",
    "require 'nn'\n",
    "\n",
    "checkpoint_1 = torch.load('../../arxiv/all_classes_32_3_MSE.t7')   \n",
    "a = torch.Tensor(checkpoint_1.train_loss_history) \n",
    "\n"
   ]
  },
  {
   "cell_type": "code",
   "execution_count": null,
   "metadata": {
    "collapsed": false
   },
   "outputs": [],
   "source": [
    "gnuplot.pngfigure('plot_sky_class_temp_1.png')\n",
    "gnuplot.plot(a)\n",
    "gnuplot.plotflush()"
   ]
  },
  {
   "cell_type": "code",
   "execution_count": null,
   "metadata": {
    "collapsed": true
   },
   "outputs": [],
   "source": []
  }
 ],
 "metadata": {
  "kernelspec": {
   "display_name": "iTorch",
   "language": "lua",
   "name": "itorch"
  },
  "language_info": {
   "name": "lua",
   "version": "5.1"
  }
 },
 "nbformat": 4,
 "nbformat_minor": 0
}
