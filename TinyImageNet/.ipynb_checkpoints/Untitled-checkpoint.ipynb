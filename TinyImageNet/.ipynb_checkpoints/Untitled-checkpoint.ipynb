{
 "cells": [
  {
   "cell_type": "code",
   "execution_count": 2,
   "metadata": {
    "collapsed": false
   },
   "outputs": [
    {
     "data": {
      "text/plain": [
       "WARNING: comm_open not handled yet\t\n"
      ]
     },
     "execution_count": 2,
     "metadata": {},
     "output_type": "execute_result"
    }
   ],
   "source": [
    "require 'nngraph'\n",
    "require 'gnuplot'\n",
    "require 'nn'\n",
    "\n",
    "checkpoint_1 = torch.load('../../arxiv/sky_class_32_3_MSE.t7')   \n",
    "a = torch.Tensor(checkpoint_1.train_loss_history) \n",
    "gnuplot.plot(a)"
   ]
  },
  {
   "cell_type": "code",
   "execution_count": 5,
   "metadata": {
    "collapsed": false
   },
   "outputs": [
    {
     "ename": "[string \"local f = function() return plot(a) end; loca...\"]:1: attempt to call global 'plot' (a nil value)\nstack traceback:\n\t[string \"local f = function() return plot(a) end; loca...\"]:1: in function 'f'\n\t[string \"local f = function() return plot(a) end; loca...\"]:1: in main chunk\n\t[C]: in function 'xpcall'\n\t/home/kedart/torch/install/share/lua/5.1/itorch/main.lua:209: in function </home/kedart/torch/install/share/lua/5.1/itorch/main.lua:173>\n\t/home/kedart/torch/install/share/lua/5.1/lzmq/poller.lua:75: in function 'poll'\n\t/home/kedart/torch/install/share/lua/5.1/lzmq/impl/loop.lua:307: in function 'poll'\n\t/home/kedart/torch/install/share/lua/5.1/lzmq/impl/loop.lua:325: in function 'sleep_ex'\n\t/home/kedart/torch/install/share/lua/5.1/lzmq/impl/loop.lua:370: in function 'start'\n\t/home/kedart/torch/install/share/lua/5.1/itorch/main.lua:381: in main chunk\n\t[C]: in function 'require'\n\t(command line):1: in main chunk\n\t[C]: at 0x00406670",
     "evalue": "",
     "output_type": "error",
     "traceback": [
      "[string \"local f = function() return plot(a) end; loca...\"]:1: attempt to call global 'plot' (a nil value)\nstack traceback:\n\t[string \"local f = function() return plot(a) end; loca...\"]:1: in function 'f'\n\t[string \"local f = function() return plot(a) end; loca...\"]:1: in main chunk\n\t[C]: in function 'xpcall'\n\t/home/kedart/torch/install/share/lua/5.1/itorch/main.lua:209: in function </home/kedart/torch/install/share/lua/5.1/itorch/main.lua:173>\n\t/home/kedart/torch/install/share/lua/5.1/lzmq/poller.lua:75: in function 'poll'\n\t/home/kedart/torch/install/share/lua/5.1/lzmq/impl/loop.lua:307: in function 'poll'\n\t/home/kedart/torch/install/share/lua/5.1/lzmq/impl/loop.lua:325: in function 'sleep_ex'\n\t/home/kedart/torch/install/share/lua/5.1/lzmq/impl/loop.lua:370: in function 'start'\n\t/home/kedart/torch/install/share/lua/5.1/itorch/main.lua:381: in main chunk\n\t[C]: in function 'require'\n\t(command line):1: in main chunk\n\t[C]: at 0x00406670"
     ]
    }
   ],
   "source": [
    "itorch.plot(a)"
   ]
  },
  {
   "cell_type": "code",
   "execution_count": null,
   "metadata": {
    "collapsed": true
   },
   "outputs": [],
   "source": []
  }
 ],
 "metadata": {
  "kernelspec": {
   "display_name": "iTorch",
   "language": "lua",
   "name": "itorch"
  },
  "language_info": {
   "name": "lua",
   "version": "5.1"
  }
 },
 "nbformat": 4,
 "nbformat_minor": 0
}
