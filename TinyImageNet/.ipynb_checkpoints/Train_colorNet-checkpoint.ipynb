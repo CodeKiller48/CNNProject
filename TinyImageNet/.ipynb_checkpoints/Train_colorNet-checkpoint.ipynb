{
 "cells": [
  {
   "cell_type": "code",
   "execution_count": 1,
   "metadata": {
    "collapsed": true
   },
   "outputs": [],
   "source": [
    "-- require 'VGG';\n",
    "-- VGG_net = load_VGG();\n",
    "-- print('VGGnet5\\n' .. VGG_net:__tostring());"
   ]
  },
  {
   "cell_type": "code",
   "execution_count": 2,
   "metadata": {
    "collapsed": true
   },
   "outputs": [],
   "source": [
    "-- local layer_nums = {9,16}\n",
    "-- local num_images = 20;\n",
    "-- hc_dataset = create_hypercolumn_dataset(num_images, layer_nums)"
   ]
  },
  {
   "cell_type": "code",
   "execution_count": 3,
   "metadata": {
    "collapsed": false
   },
   "outputs": [],
   "source": [
    "hc_file_name = '../../Data/tiny-imagenet-200/test/hc/test.tv'\n",
    "hc_dataset = torch.load(hc_file_name)"
   ]
  },
  {
   "cell_type": "code",
   "execution_count": 4,
   "metadata": {
    "collapsed": false
   },
   "outputs": [
    {
     "data": {
      "text/plain": [
       "  20\n",
       " 384\n",
       " 112\n",
       " 112\n",
       "[torch.LongStorage of size 4]\n",
       "\n"
      ]
     },
     "execution_count": 4,
     "metadata": {},
     "output_type": "execute_result"
    }
   ],
   "source": [
    "hypercolumns = hc_dataset[\"hypercolumns\"]\n",
    "images = hc_dataset[\"images\"]\n",
    "print(hypercolumns:size())\n",
    "num_hypercolumns = hypercolumns:size()[2]\n",
    "batch_size = hypercolumns:size()[1]"
   ]
  },
  {
   "cell_type": "code",
   "execution_count": null,
   "metadata": {
    "collapsed": false
   },
   "outputs": [],
   "source": []
  },
  {
   "cell_type": "code",
   "execution_count": 5,
   "metadata": {
    "collapsed": false
   },
   "outputs": [
    {
     "data": {
      "text/plain": [
       " 20\n",
       "  2\n",
       " 28\n",
       " 28\n",
       "[torch.LongStorage of size 4]\n",
       "\n"
      ]
     },
     "execution_count": 5,
     "metadata": {},
     "output_type": "execute_result"
    }
   ],
   "source": [
    "local yuv_temp = image.rgb2yuv(images[1]);\n",
    "yuv_temp = image.scale(yuv_temp,28,28,'bilinear')\n",
    "local uv_temp = yuv_temp[{{2,3}}]\n",
    "uv_temp = uv_temp:reshape(1,uv_temp:size()[1], uv_temp:size()[2], uv_temp:size()[3] );\n",
    "uv_images = uv_temp\n",
    "\n",
    "for count=2,batch_size do\n",
    "    yuv_temp = image.rgb2yuv(images[count]);\n",
    "    yuv_temp = image.scale(yuv_temp,28,28,'bilinear')\n",
    "    uv_temp = yuv_temp[{{2,3}}]\n",
    "    uv_temp = uv_temp:reshape(1,uv_temp:size()[1], uv_temp:size()[2], uv_temp:size()[3]);\n",
    "    uv_images = torch.cat(uv_images,uv_temp,1)\n",
    "end\n",
    "    print(uv_images:size())"
   ]
  },
  {
   "cell_type": "code",
   "execution_count": 9,
   "metadata": {
    "collapsed": false
   },
   "outputs": [],
   "source": [
    "trainset = {}\n",
    "trainset[\"input\"] = hypercolumns\n",
    "trainset[\"output\"] = uv_images"
   ]
  },
  {
   "cell_type": "code",
   "execution_count": 6,
   "metadata": {
    "collapsed": true
   },
   "outputs": [],
   "source": [
    "require \"nn\"\n",
    "require \"torch\"\n",
    "\n",
    "function BasicConvNet1()\n",
    "    -- Number of filters in different layers \n",
    "    net = nn.Sequential()\n",
    "    HyperColumnHeight = num_hypercolumns\n",
    "    Layer1FilterNum = 32\n",
    "    Layer2FilterNum = 64\n",
    "    Layer3FilterNum = 2\n",
    "\n",
    "\n",
    "    -- [[ Layer 1 ]]\n",
    "    -- HyperColumnHeight input image channel, Layer1FilterNum output channels, 3x3 convolution kernel, 1 stride W, 1 stride H, 1 pad W, 1 pad R\n",
    "    net:add(nn.SpatialConvolution(HyperColumnHeight, Layer1FilterNum, 3, 3, 1, 1, 1, 1)) \n",
    "    -- Batch Normalization\n",
    "    net:add(nn.SpatialBatchNormalization(Layer1FilterNum))                       \n",
    "    -- ReLU non-linearity\n",
    "    net:add(nn.ReLU())\n",
    "    -- 2x2 max-pooling\n",
    "    net:add(nn.SpatialMaxPooling(2,2,2,2))\n",
    "\n",
    "\n",
    "    -- [[ Layer 2 ]]\n",
    "    -- Layer1FilterNum input image channel, Layer2FilterNum output channels, 3x3 convolution kernel, 1 stride W, 1 stride H, 1 pad W, 1 pad R\n",
    "    net:add(nn.SpatialConvolution(Layer1FilterNum, Layer2FilterNum, 3, 3, 1, 1, 1, 1)) \n",
    "    -- Batch Normalization\n",
    "    net:add(nn.SpatialBatchNormalization(Layer2FilterNum))                       \n",
    "    -- ReLU non-linearity\n",
    "    net:add(nn.ReLU())\n",
    "    -- 2x2 max-pooling\n",
    "    net:add(nn.SpatialMaxPooling(2,2,2,2))\n",
    "\n",
    "    --[[ Layer 3 ]]\n",
    "    -- Layer2FilterNum input image channel, Layer3FilterNum output channels, 3x3 convolution kernel, 1 stride W, 1 stride H, 1 pad W, 1 pad R\n",
    "    net:add(nn.SpatialConvolution(Layer2FilterNum, Layer3FilterNum, 3, 3, 1, 1, 1, 1)) \n",
    "    -- Adding transfer function sigmod \n",
    "    net:add(nn.Sigmoid())  \n",
    "\n",
    "    net:zeroGradParameters()\n",
    "    return net\n",
    "\n",
    "end"
   ]
  },
  {
   "cell_type": "code",
   "execution_count": 7,
   "metadata": {
    "collapsed": false
   },
   "outputs": [
    {
     "data": {
      "text/plain": [
       "ConvNet Loaded\t\n",
       "MSEcriterion defined\t\n",
       "Trainer defined\t\n"
      ]
     },
     "execution_count": 7,
     "metadata": {},
     "output_type": "execute_result"
    }
   ],
   "source": [
    "-- Loading the net\n",
    "require('Net1')\n",
    "net = BasicConvNet1()\n",
    "print('ConvNet Loaded')\n",
    "\n",
    "-- Defining a loss function\n",
    "Weight = torch.ones(2,28,28)-- All ones matrix -- Bad coding\n",
    "criterion = nn.WeightedMSECriterion(Weight)\n",
    "print('MSEcriterion defined')\n",
    "\n",
    "trainer = nn.StochasticGradient(net, criterion)\n",
    "-- learning rate init\n",
    "trainer.learningRate = 0.001 --\n",
    "-- Number of Epocs\n",
    "trainer.maxIteration = 5 \n",
    "print('Trainer defined')"
   ]
  },
  {
   "cell_type": "code",
   "execution_count": null,
   "metadata": {
    "collapsed": true
   },
   "outputs": [],
   "source": [
    "-- Passing a random input\n",
    "input = torch.rand(2,512,112,112) -- pass a random tensor as input to the network\n",
    "-- Obtain the output\n",
    "output = net:forward(input)\n",
    "\n",
    "-- Checking the backward pass using a fake expected output\n",
    "ExpectedFakeOutput = torch.rand( output:size() )\n",
    "criterion:forward(output, ExpectedFakeOutput) -- let's say the groundtruth was class number: 3\n",
    "gradients = criterion:backward(output, ExpectedFakeOutput)\n",
    "print(\"No code error during sanity check (Logical error might still exist)\")"
   ]
  }
 ],
 "metadata": {
  "kernelspec": {
   "display_name": "iTorch",
   "language": "lua",
   "name": "itorch"
  },
  "language_info": {
   "name": "lua",
   "version": "5.1"
  }
 },
 "nbformat": 4,
 "nbformat_minor": 0
}
