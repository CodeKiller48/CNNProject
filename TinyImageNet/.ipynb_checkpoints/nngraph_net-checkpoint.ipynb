{
 "cells": [
  {
   "cell_type": "code",
   "execution_count": null,
   "metadata": {
    "collapsed": false
   },
   "outputs": [],
   "source": [
    "require 'Utils'\n",
    "require 'nngraph';\n",
    "require 'loadcaffe'\n",
    "require 'image'\n",
    "require 'VGG'\n",
    "require 'optim'\n",
    "require 'Net2'\n",
    "model = create_colorNet();"
   ]
  },
  {
   "cell_type": "markdown",
   "metadata": {},
   "source": [
    "## Debugging"
   ]
  },
  {
   "cell_type": "code",
   "execution_count": null,
   "metadata": {
    "collapsed": false
   },
   "outputs": [],
   "source": [
    "nngraph.setDebug(true)\n",
    "\n",
    "local dtype = 'torch.DoubleTensor'\n",
    "local params, grad_params = model:getParameters()\n",
    "local crit = nn.MSECriterion():type(dtype)\n",
    "\n",
    "-- Set up some variables we will use below\n",
    "local train_loss_history = {}\n",
    "\n",
    "-- Contains all the meta parameters\n",
    "local opt = {num_iterations=5, print_every=1, learning_rate=0.0002, \n",
    "    batch_size = 2}\n",
    "\n",
    "--Triming the network will the last required layer \n",
    "\n",
    "-- Loss function that we pass to an optim method\n",
    "local function f(w)\n",
    "--  assert(w == params)\n",
    "  grad_params:zero()\n",
    "\n",
    "  im_batch = get_validation_batch(opt.batch_size)\n",
    "  x = torch.Tensor(im_batch:size()[1],im_batch:size()[2],224,224)\n",
    "\n",
    "  for i=1,im_batch:size()[1] do\n",
    "    x[i] = preprocess(im_batch[i])\n",
    "  end\n",
    "  uv_images, y_images = create_yuv_images(im_batch,56,56)\n",
    "  x, uv_images = x:type(dtype), uv_images:type(dtype)\n",
    "  local y = uv_images + 0.5\n",
    "\n",
    "  local scores = model:forward(x)\n",
    "  local loss   = crit:forward(scores, y)\n",
    "\n",
    "  -- Run the Criterion and model backward to compute gradients, maybe timing it\n",
    "  local grad_scores = crit:backward(scores, y)\n",
    "  model:backward(x, grad_scores)\n",
    "\n",
    "  return loss, grad_params\n",
    "end\n",
    "\n",
    "\n",
    "-- Train the model!\n",
    "local optim_config = {learningRate = opt.learning_rate}\n",
    "local num_iterations = opt.num_iterations\n",
    "for i = 1, num_iterations do\n",
    "\n",
    "  -- Take a gradient step and maybe print\n",
    "  -- Note that adam returns a singleton array of losses\n",
    "  local _, loss = optim.adam(f, params, optim_config)\n",
    "  table.insert(train_loss_history, loss[1])\n",
    "  if opt.print_every > 0 and i % opt.print_every == 0 then\n",
    "    local msg = ' i = %d / %d, loss = %f'\n",
    "    local args = {msg,  i, num_iterations, loss[1]}\n",
    "    print(string.format(unpack(args)))\n",
    "  end\n",
    "end\n",
    "\n",
    "model:clearState()\n",
    "netsav = model\n",
    "torch.save('../../model/nngraph_net.t7', netsav)"
   ]
  },
  {
   "cell_type": "code",
   "execution_count": null,
   "metadata": {
    "collapsed": false
   },
   "outputs": [],
   "source": [
    "im_batch = get_validation_batch(5)\n",
    "itorch.image(im_batch)"
   ]
  },
  {
   "cell_type": "code",
   "execution_count": null,
   "metadata": {
    "collapsed": false
   },
   "outputs": [],
   "source": [
    "model:evaluate()\n",
    "local scores = model:forward(x)\n",
    "uv_op = model.output - 0.5\n",
    "for i = 1,2 do\n",
    "    size = 64\n",
    "    itorch.image({image.scale(y2rgb(image.rgb2y(im_batch[i])),size,size),\n",
    "                  image.scale(image.yuv2rgb(torch.cat(y_images[i],uv_op[i],1)),size,size),\n",
    "                  image.scale(image.yuv2rgb(torch.cat(y_images[i],uv_images[i],1)),size,size)})\n",
    "end"
   ]
  },
  {
   "cell_type": "code",
   "execution_count": null,
   "metadata": {
    "collapsed": true
   },
   "outputs": [],
   "source": []
  },
  {
   "cell_type": "code",
   "execution_count": null,
   "metadata": {
    "collapsed": false
   },
   "outputs": [],
   "source": [
    "model_load = torch.load('../../model/nngraph_net.t7')\n",
    "model_load:evaluate()\n",
    "model_load:forward(x)\n",
    "uv_op_load = model_load.output - 0.5\n",
    "for i = 1,2 do\n",
    "    size = 64\n",
    "    itorch.image({image.scale(y2rgb(image.rgb2y(im_batch[i])),size,size),\n",
    "                  image.scale(image.yuv2rgb(torch.cat(y_images[i],uv_op_load[i],1)),size,size),\n",
    "                  image.scale(image.yuv2rgb(torch.cat(y_images[i],uv_images[i],1)),size,size)})\n",
    "end"
   ]
  },
  {
   "cell_type": "code",
   "execution_count": null,
   "metadata": {
    "collapsed": true
   },
   "outputs": [],
   "source": []
  }
 ],
 "metadata": {
  "kernelspec": {
   "display_name": "iTorch",
   "language": "lua",
   "name": "itorch"
  },
  "language_info": {
   "name": "lua",
   "version": "5.1"
  }
 },
 "nbformat": 4,
 "nbformat_minor": 0
}
