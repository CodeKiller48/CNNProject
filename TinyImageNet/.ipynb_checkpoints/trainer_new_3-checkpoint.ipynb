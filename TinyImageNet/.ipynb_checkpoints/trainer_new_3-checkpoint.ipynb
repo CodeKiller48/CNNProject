{
 "cells": [
  {
   "cell_type": "code",
   "execution_count": 1,
   "metadata": {
    "collapsed": false
   },
   "outputs": [],
   "source": [
    "require 'Utils'\n",
    "require 'Net1'\n",
    "require 'VGG'\n",
    "require 'optim'"
   ]
  },
  {
   "cell_type": "code",
   "execution_count": 2,
   "metadata": {
    "collapsed": false,
    "scrolled": true
   },
   "outputs": [
    {
     "data": {
      "text/plain": [
       "Successfully loaded ../../Data/VGG_caffe/VGG_ILSVRC_16_layers.caffemodel\n"
      ]
     },
     "execution_count": 2,
     "metadata": {},
     "output_type": "execute_result"
    },
    {
     "data": {
      "text/plain": [
       "conv1_1: 64 3 3 3\n",
       "conv1_2: 64 64 3 3\n",
       "conv2_1: 128 64 3 3\n",
       "conv2_2: 128 128 3 3\n",
       "conv3_1: 256 128 3 3\n"
      ]
     },
     "execution_count": 2,
     "metadata": {},
     "output_type": "execute_result"
    },
    {
     "data": {
      "text/plain": [
       "conv3_2: 256 256 3 3\n"
      ]
     },
     "execution_count": 2,
     "metadata": {},
     "output_type": "execute_result"
    },
    {
     "data": {
      "text/plain": [
       "conv3_3: 256 256 3 3\n",
       "conv4_1: 512 256 3 3\n"
      ]
     },
     "execution_count": 2,
     "metadata": {},
     "output_type": "execute_result"
    },
    {
     "data": {
      "text/plain": [
       "conv4_2: 512 512 3 3\n"
      ]
     },
     "execution_count": 2,
     "metadata": {},
     "output_type": "execute_result"
    },
    {
     "data": {
      "text/plain": [
       "conv4_3: 512 512 3 3\n"
      ]
     },
     "execution_count": 2,
     "metadata": {},
     "output_type": "execute_result"
    },
    {
     "data": {
      "text/plain": [
       "conv5_1: 512 512 3 3\n"
      ]
     },
     "execution_count": 2,
     "metadata": {},
     "output_type": "execute_result"
    },
    {
     "data": {
      "text/plain": [
       "conv5_2: 512 512 3 3\n"
      ]
     },
     "execution_count": 2,
     "metadata": {},
     "output_type": "execute_result"
    },
    {
     "data": {
      "text/plain": [
       "conv5_3: 512 512 3 3\n"
      ]
     },
     "execution_count": 2,
     "metadata": {},
     "output_type": "execute_result"
    },
    {
     "data": {
      "text/plain": [
       "fc6: 1 1 25088 4096\n"
      ]
     },
     "execution_count": 2,
     "metadata": {},
     "output_type": "execute_result"
    },
    {
     "data": {
      "text/plain": [
       "fc7: 1 1 4096 4096\n"
      ]
     },
     "execution_count": 2,
     "metadata": {},
     "output_type": "execute_result"
    },
    {
     "data": {
      "text/plain": [
       "fc8: 1 1 4096 1000\n"
      ]
     },
     "execution_count": 2,
     "metadata": {},
     "output_type": "execute_result"
    },
    {
     "data": {
      "text/plain": [
       " i = 1 / 50, loss = 0.174495\t\n"
      ]
     },
     "execution_count": 2,
     "metadata": {},
     "output_type": "execute_result"
    },
    {
     "data": {
      "text/plain": [
       " i = 2 / 50, loss = 0.002490\t\n"
      ]
     },
     "execution_count": 2,
     "metadata": {},
     "output_type": "execute_result"
    },
    {
     "data": {
      "text/plain": [
       " i = 3 / 50, loss = 0.005745\t\n"
      ]
     },
     "execution_count": 2,
     "metadata": {},
     "output_type": "execute_result"
    },
    {
     "data": {
      "text/plain": [
       " i = 4 / 50, loss = 0.004485\t\n"
      ]
     },
     "execution_count": 2,
     "metadata": {},
     "output_type": "execute_result"
    },
    {
     "data": {
      "text/plain": [
       " i = 5 / 50, loss = 0.004936\t\n"
      ]
     },
     "execution_count": 2,
     "metadata": {},
     "output_type": "execute_result"
    },
    {
     "data": {
      "text/plain": [
       " i = 6 / 50, loss = 0.009326\t\n"
      ]
     },
     "execution_count": 2,
     "metadata": {},
     "output_type": "execute_result"
    },
    {
     "data": {
      "text/plain": [
       " i = 7 / 50, loss = 0.004060\t\n"
      ]
     },
     "execution_count": 2,
     "metadata": {},
     "output_type": "execute_result"
    },
    {
     "data": {
      "text/plain": [
       " i = 8 / 50, loss = 0.004937\t\n"
      ]
     },
     "execution_count": 2,
     "metadata": {},
     "output_type": "execute_result"
    },
    {
     "data": {
      "text/plain": [
       " i = 9 / 50, loss = 0.005040\t\n"
      ]
     },
     "execution_count": 2,
     "metadata": {},
     "output_type": "execute_result"
    },
    {
     "data": {
      "text/plain": [
       " i = 10 / 50, loss = 0.004689\t"
      ]
     },
     "execution_count": 2,
     "metadata": {},
     "output_type": "execute_result"
    },
    {
     "data": {
      "text/plain": [
       "\n"
      ]
     },
     "execution_count": 2,
     "metadata": {},
     "output_type": "execute_result"
    },
    {
     "data": {
      "text/plain": [
       " i = 11 / 50, loss = 0.004982\t\n"
      ]
     },
     "execution_count": 2,
     "metadata": {},
     "output_type": "execute_result"
    },
    {
     "data": {
      "text/plain": [
       " i = 12 / 50, loss = 0.003590\t\n"
      ]
     },
     "execution_count": 2,
     "metadata": {},
     "output_type": "execute_result"
    },
    {
     "data": {
      "text/plain": [
       " i = 13 / 50, loss = 0.010161\t\n"
      ]
     },
     "execution_count": 2,
     "metadata": {},
     "output_type": "execute_result"
    },
    {
     "data": {
      "text/plain": [
       " i = 14 / 50, loss = 0.005767\t\n"
      ]
     },
     "execution_count": 2,
     "metadata": {},
     "output_type": "execute_result"
    },
    {
     "data": {
      "text/plain": [
       " i = 15 / 50, loss = 0.002190\t\n"
      ]
     },
     "execution_count": 2,
     "metadata": {},
     "output_type": "execute_result"
    },
    {
     "data": {
      "text/plain": [
       " i = 16 / 50, loss = 0.002777\t\n"
      ]
     },
     "execution_count": 2,
     "metadata": {},
     "output_type": "execute_result"
    },
    {
     "data": {
      "text/plain": [
       " i = 17 / 50, loss = 0.008319\t\n"
      ]
     },
     "execution_count": 2,
     "metadata": {},
     "output_type": "execute_result"
    },
    {
     "data": {
      "text/plain": [
       " i = 18 / 50, loss = 0.005456\t\n"
      ]
     },
     "execution_count": 2,
     "metadata": {},
     "output_type": "execute_result"
    },
    {
     "data": {
      "text/plain": [
       " i = 19 / 50, loss = 0.001622\t\n"
      ]
     },
     "execution_count": 2,
     "metadata": {},
     "output_type": "execute_result"
    },
    {
     "data": {
      "text/plain": [
       " i = 20 / 50, loss = 0.008839\t\n"
      ]
     },
     "execution_count": 2,
     "metadata": {},
     "output_type": "execute_result"
    },
    {
     "data": {
      "text/plain": [
       " i = 21 / 50, loss = 0.005691\t\n"
      ]
     },
     "execution_count": 2,
     "metadata": {},
     "output_type": "execute_result"
    },
    {
     "data": {
      "text/plain": [
       " i = 22 / 50, loss = 0.006321\t\n"
      ]
     },
     "execution_count": 2,
     "metadata": {},
     "output_type": "execute_result"
    },
    {
     "data": {
      "text/plain": [
       " i = 23 / 50, loss = 0.002865\t\n"
      ]
     },
     "execution_count": 2,
     "metadata": {},
     "output_type": "execute_result"
    },
    {
     "data": {
      "text/plain": [
       " i = 24 / 50, loss = 0.009073\t\n"
      ]
     },
     "execution_count": 2,
     "metadata": {},
     "output_type": "execute_result"
    },
    {
     "data": {
      "text/plain": [
       " i = 25 / 50, loss = 0.003294\t\n"
      ]
     },
     "execution_count": 2,
     "metadata": {},
     "output_type": "execute_result"
    },
    {
     "data": {
      "text/plain": [
       " i = 26 / 50, loss = 0.009029\t\n"
      ]
     },
     "execution_count": 2,
     "metadata": {},
     "output_type": "execute_result"
    },
    {
     "data": {
      "text/plain": [
       " i = 27 / 50, loss = 0.006985\t\n"
      ]
     },
     "execution_count": 2,
     "metadata": {},
     "output_type": "execute_result"
    },
    {
     "data": {
      "text/plain": [
       " i = 28 / 50, loss = 0.003103\t\n"
      ]
     },
     "execution_count": 2,
     "metadata": {},
     "output_type": "execute_result"
    },
    {
     "data": {
      "text/plain": [
       " i = 29 / 50, loss = 0.007059\t\n"
      ]
     },
     "execution_count": 2,
     "metadata": {},
     "output_type": "execute_result"
    },
    {
     "data": {
      "text/plain": [
       " i = 30 / 50, loss = 0.006204\t\n"
      ]
     },
     "execution_count": 2,
     "metadata": {},
     "output_type": "execute_result"
    },
    {
     "data": {
      "text/plain": [
       " i = 31 / 50, loss = 0.005229\t\n"
      ]
     },
     "execution_count": 2,
     "metadata": {},
     "output_type": "execute_result"
    },
    {
     "data": {
      "text/plain": [
       " i = 32 / 50, loss = 0.003208\t\n"
      ]
     },
     "execution_count": 2,
     "metadata": {},
     "output_type": "execute_result"
    },
    {
     "data": {
      "text/plain": [
       " i = 33 / 50, loss = 0.005947\t\n"
      ]
     },
     "execution_count": 2,
     "metadata": {},
     "output_type": "execute_result"
    },
    {
     "data": {
      "text/plain": [
       " i = 34 / 50, loss = 0.003028\t\n"
      ]
     },
     "execution_count": 2,
     "metadata": {},
     "output_type": "execute_result"
    },
    {
     "data": {
      "text/plain": [
       " i = 35 / 50, loss = 0.001778\t\n"
      ]
     },
     "execution_count": 2,
     "metadata": {},
     "output_type": "execute_result"
    },
    {
     "data": {
      "text/plain": [
       " i = 36 / 50, loss = 0.004831\t\n"
      ]
     },
     "execution_count": 2,
     "metadata": {},
     "output_type": "execute_result"
    },
    {
     "data": {
      "text/plain": [
       " i = 37 / 50, loss = 0.003183\t\n"
      ]
     },
     "execution_count": 2,
     "metadata": {},
     "output_type": "execute_result"
    },
    {
     "data": {
      "text/plain": [
       " i = 38 / 50, loss = 0.006520\t\n"
      ]
     },
     "execution_count": 2,
     "metadata": {},
     "output_type": "execute_result"
    },
    {
     "data": {
      "text/plain": [
       " i = 39 / 50, loss = 0.004783\t\n"
      ]
     },
     "execution_count": 2,
     "metadata": {},
     "output_type": "execute_result"
    },
    {
     "data": {
      "text/plain": [
       " i = 40 / 50, loss = 0.005274\t\n"
      ]
     },
     "execution_count": 2,
     "metadata": {},
     "output_type": "execute_result"
    },
    {
     "data": {
      "text/plain": [
       " i = 41 / 50, loss = 0.004500\t\n"
      ]
     },
     "execution_count": 2,
     "metadata": {},
     "output_type": "execute_result"
    },
    {
     "data": {
      "text/plain": [
       " i = 42 / 50, loss = 0.006797\t\n"
      ]
     },
     "execution_count": 2,
     "metadata": {},
     "output_type": "execute_result"
    },
    {
     "data": {
      "text/plain": [
       " i = 43 / 50, loss = 0.003005\t\n"
      ]
     },
     "execution_count": 2,
     "metadata": {},
     "output_type": "execute_result"
    },
    {
     "data": {
      "text/plain": [
       " i = 44 / 50, loss = 0.003813\t\n"
      ]
     },
     "execution_count": 2,
     "metadata": {},
     "output_type": "execute_result"
    },
    {
     "data": {
      "text/plain": [
       " i = 45 / 50, loss = 0.003415\t\n"
      ]
     },
     "execution_count": 2,
     "metadata": {},
     "output_type": "execute_result"
    },
    {
     "data": {
      "text/plain": [
       " i = 46 / 50, loss = 0.005204\t\n"
      ]
     },
     "execution_count": 2,
     "metadata": {},
     "output_type": "execute_result"
    },
    {
     "data": {
      "text/plain": [
       " i = 47 / 50, loss = 0.005783\t\n"
      ]
     },
     "execution_count": 2,
     "metadata": {},
     "output_type": "execute_result"
    },
    {
     "data": {
      "text/plain": [
       " i = 48 / 50, loss = 0.006242\t\n"
      ]
     },
     "execution_count": 2,
     "metadata": {},
     "output_type": "execute_result"
    },
    {
     "data": {
      "text/plain": [
       " i = 49 / 50, loss = 0.006172\t\n"
      ]
     },
     "execution_count": 2,
     "metadata": {},
     "output_type": "execute_result"
    },
    {
     "data": {
      "text/plain": [
       " i = 50 / 50, loss = 0.009724\t\n"
      ]
     },
     "execution_count": 2,
     "metadata": {},
     "output_type": "execute_result"
    }
   ],
   "source": [
    "local dtype = 'torch.DoubleTensor'\n",
    "\n",
    "VGG_net = load_VGG();\n",
    "model = BasicConvNet2()\n",
    "local params, grad_params = model:getParameters()\n",
    "local crit = nn.MSECriterion():type(dtype)\n",
    "\n",
    "-- Set up some variables we will use below\n",
    "local train_loss_history = {}\n",
    "\n",
    "-- Contains all the meta parameters\n",
    "local opt = {num_iterations=20, print_every=1, learning_rate=0.2, batch_size = 8, layers = {3,9}}\n",
    "\n",
    "--Triming the network will the last required layer \n",
    "trim_net(VGG_net, opt.layers[#opt.layers])\n",
    "\n",
    "-- Loss function that we pass to an optim method\n",
    "local function f(w)\n",
    "--  assert(w == params)\n",
    "  grad_params:zero()\n",
    "\n",
    "  -- Get a minibatch and run the model forward, maybe timing it\n",
    "  local im_batch, x = create_hypercolumn_dataset_random_bw(opt.batch_size, VGG_net, opt.layers);\n",
    "  local uv_images, y_images = create_yuv_images(im_batch,28,28)\n",
    "  \n",
    "  -- Datatype standardization \n",
    "  x, uv_images = x:type(dtype), uv_images:type(dtype)\n",
    "\n",
    "  local scores = model:forward(x)\n",
    "  local loss   = crit:forward(scores, uv_images)\n",
    "\n",
    "  -- Run the Criterion and model backward to compute gradients, maybe timing it\n",
    "  local grad_scores = crit:backward(scores, uv_images+0.5)\n",
    "  model:backward(x, grad_scores)\n",
    "\n",
    "  return loss, grad_params\n",
    "end\n",
    "\n",
    "\n",
    "-- Train the model!\n",
    "local optim_config = {learningRate = opt.learning_rate}\n",
    "local num_iterations = opt.num_iterations\n",
    "for i = 1, num_iterations do\n",
    "\n",
    "  -- Take a gradient step and maybe print\n",
    "  -- Note that adam returns a singleton array of losses\n",
    "  local _, loss = optim.adam(f, params, optim_config)\n",
    "  table.insert(train_loss_history, loss[1])\n",
    "  if opt.print_every > 0 and i % opt.print_every == 0 then\n",
    "    local msg = ' i = %d / %d, loss = %f'\n",
    "    local args = {msg,  i, num_iterations, loss[1]}\n",
    "    print(string.format(unpack(args)))\n",
    "  end\n",
    "end\n"
   ]
  },
  {
   "cell_type": "code",
   "execution_count": 7,
   "metadata": {
    "collapsed": false
   },
   "outputs": [
    {
     "data": {
      "image/png": "[encoded data removed]",
      "text/plain": [
       "Console does not support images"
      ]
     },
     "metadata": {
      "image/png": {
       "height": 224,
       "width": 224
      }
     },
     "output_type": "display_data"
    },
    {
     "data": {
      "image/png": "[encoded data removed]",
      "text/plain": [
       "Console does not support images"
      ]
     },
     "metadata": {
      "image/png": {
       "height": 224,
       "width": 224
      }
     },
     "output_type": "display_data"
    },
    {
     "data": {
      "image/png": "[encoded data removed]",
      "text/plain": [
       "Console does not support images"
      ]
     },
     "metadata": {
      "image/png": {
       "height": 224,
       "width": 224
      }
     },
     "output_type": "display_data"
    },
    {
     "data": {
      "image/png": "[encoded data removed]",
      "text/plain": [
       "Console does not support images"
      ]
     },
     "metadata": {
      "image/png": {
       "height": 224,
       "width": 224
      }
     },
     "output_type": "display_data"
    }
   ],
   "source": [
    "locaopt = {num_iterations=50, print_every=1, learning_rate=0.2, batch_size = 8, layers = {3,9}}\n",
    "\n",
    "local im_batch, x = create_hypercolumn_dataset_random_bw(opt.batch_size, VGG_net, opt.layers);\n",
    "local uv_images, y_images = create_yuv_images(im_batch,28,28)\n",
    "model:forward(x)\n",
    "uv_op = model.output\n",
    "i = 4\n",
    "size = 224\n",
    "print(\"Input\")\n",
    "itorch.image(image.scale(y_images[i],size,size))\n",
    "itorch.image(image.scale(image.yuv2rgb(torch.cat(y_images[i],uv_op[i],1)),size,size))\n",
    "itorch.image(image.scale(image.yuv2rgb(torch.cat(y_images[i],uv_images[i],1)),size,size))\n",
    "itorch.image(image.scale(im_batch[i],size,size))"
   ]
  },
  {
   "cell_type": "code",
   "execution_count": null,
   "metadata": {
    "collapsed": false
   },
   "outputs": [],
   "source": [
    "depth = 193\n",
    "net = BasicConvNet2();\n",
    "criterion = nn.MSECriterion()\n",
    "print('MSEcriterion defined')"
   ]
  },
  {
   "cell_type": "code",
   "execution_count": null,
   "metadata": {
    "collapsed": false,
    "scrolled": true
   },
   "outputs": [],
   "source": [
    "layer_nums = {3,9}\n",
    "num_images = 8;\n",
    "decay = 0.99;\n",
    "local train_loss_history = {}\n",
    "for i = 1,1 do\n",
    "    --im_batch,hc_batch = create_hypercolumn_dataset_random_bw(num_images, layer_nums, VGG_net);\n",
    "    hc_size = hc_batch:size()\n",
    "    num_hypercolumns = hc_size[2]\n",
    "    uv_images,y_images = create_yuv_images(im_batch,28,28)\n",
    "    lr = .2;\n",
    "    v  = 0\n",
    "    mu = .99\n",
    "    for j = 1,100 do\n",
    "        loss = criterion:forward(net:forward(hc_batch), uv_images+0.5)\n",
    "        print(\"batch: \".. i .. \") iter:\" .. j .. \" \" .. loss)\n",
    "        loss = net.output\n",
    "        net:backward(hc_batch, criterion:backward(loss, uv_images+0.5))\n",
    "        net:updateParameters(lr)\n",
    "        \n",
    "        -- \n",
    "        table.insert(train_loss_history, loss)\n",
    "\n",
    "        --v_prev = v # back this up\n",
    "        --v = mu * v - lr * dx # velocity update stays the same\n",
    "        --x += -mu * v_prev + (1 + mu) * v # position update changes form\n",
    "    end\n",
    "end"
   ]
  },
  {
   "cell_type": "code",
   "execution_count": null,
   "metadata": {
    "collapsed": false
   },
   "outputs": [],
   "source": [
    "uv_op = net.output-0.5;"
   ]
  },
  {
   "cell_type": "code",
   "execution_count": null,
   "metadata": {
    "collapsed": false
   },
   "outputs": [],
   "source": [
    "itorch.image(torch.cat(y_images,uv_op,2))"
   ]
  },
  {
   "cell_type": "code",
   "execution_count": null,
   "metadata": {
    "collapsed": false
   },
   "outputs": [],
   "source": [
    "i = 4\n",
    "size = 28\n",
    "itorch.image(image.scale(y_images[i],size,size))\n",
    "itorch.image(image.scale(image.yuv2rgb(torch.cat(y_images[i],uv_op[i],1)),size,size))\n",
    "itorch.image(image.scale(image.yuv2rgb(torch.cat(y_images[i],uv_images[i],1)),size,size))\n",
    "itorch.image(image.scale(im_batch[i],size,size))"
   ]
  },
  {
   "cell_type": "code",
   "execution_count": null,
   "metadata": {
    "collapsed": false
   },
   "outputs": [],
   "source": [
    "local layer_nums = {3,9}\n",
    "local num_images = 8;\n",
    "val_im_batch,val_hc_batch = create_hypercolumn_dataset_random_bw(num_images, layer_nums)\n",
    "-- val_im_batch,val_hc_batch = create_hypercolumn_dataset_random(num_images, layer_nums);\n",
    "hc_size = val_hc_batch:size()\n",
    "num_hypercolumns = hc_size[2]\n",
    "uv_images,y_images = create_yuv_images(val_im_batch,28,28)\n",
    "net:forward(val_hc_batch);\n",
    "val_uv = net.output -0.5;"
   ]
  },
  {
   "cell_type": "code",
   "execution_count": null,
   "metadata": {
    "collapsed": false
   },
   "outputs": [],
   "source": [
    "local num_images = 8;\n",
    "for iter=1,num_images do\n",
    "    itorch.image(image.scale(image.yuv2rgb(torch.cat(y_images[iter],val_uv[iter],1)),224,224))\n",
    "    itorch.image(image.scale(im_batch[iter],224,224))\n",
    "end"
   ]
  },
  {
   "cell_type": "code",
   "execution_count": null,
   "metadata": {
    "collapsed": false
   },
   "outputs": [],
   "source": [
    "local layer_nums = {3,9}\n",
    "local num_images = 8;\n",
    "-- val_im_batch,val_hc_batch = create_hypercolumn_dataset_random_bw(num_images, layer_nums)\n",
    "val_im_batch,val_hc_batch = create_hypercolumn_dataset_random(num_images, layer_nums);\n",
    "hc_size = val_hc_batch:size()\n",
    "num_hypercolumns = hc_size[2]\n",
    "uv_images,y_images = create_yuv_images(val_im_batch,28,28)\n",
    "net:forward(val_hc_batch);\n",
    "val_uv = net.output -0.5;"
   ]
  },
  {
   "cell_type": "code",
   "execution_count": null,
   "metadata": {
    "collapsed": false
   },
   "outputs": [],
   "source": [
    "local num_images = 8;\n",
    "for iter=1,num_images do\n",
    "    itorch.image(image.scale(image.yuv2rgb(torch.cat(y_images[iter],val_uv[iter],1)),224,224))\n",
    "    itorch.image(image.scale(im_batch[iter],224,224))\n",
    "end"
   ]
  },
  {
   "cell_type": "code",
   "execution_count": null,
   "metadata": {
    "collapsed": true
   },
   "outputs": [],
   "source": []
  }
 ],
 "metadata": {
  "kernelspec": {
   "display_name": "iTorch",
   "language": "lua",
   "name": "itorch"
  },
  "language_info": {
   "name": "lua",
   "version": "5.1"
  }
 },
 "nbformat": 4,
 "nbformat_minor": 0
}
