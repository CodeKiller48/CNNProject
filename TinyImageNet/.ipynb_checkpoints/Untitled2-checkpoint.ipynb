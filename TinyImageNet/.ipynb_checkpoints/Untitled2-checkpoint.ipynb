{
 "cells": [
  {
   "cell_type": "code",
   "execution_count": 1,
   "metadata": {
    "collapsed": false,
    "scrolled": false
   },
   "outputs": [],
   "source": [
    "require 'Utils'\n",
    "require 'nngraph';\n",
    "require 'loadcaffe'\n",
    "require 'image'\n",
    "require 'VGG'\n",
    "require 'optim'\n",
    "require 'Net4' --IMP\n",
    "require 'gnuplot'\n",
    "dtype = 'torch.DoubleTensor'\n"
   ]
  },
  {
   "cell_type": "code",
   "execution_count": 2,
   "metadata": {
    "collapsed": false
   },
   "outputs": [
    {
     "data": {
      "text/plain": [
       "Successfully loaded ../../Data/VGG_caffe/VGG_ILSVRC_16_layers.caffemodel\n"
      ]
     },
     "execution_count": 2,
     "metadata": {},
     "output_type": "execute_result"
    },
    {
     "data": {
      "text/plain": [
       "Successfully loaded ../../Data/VGG_caffe/VGG_ILSVRC_16_layers.caffemodel\n"
      ]
     },
     "execution_count": 2,
     "metadata": {},
     "output_type": "execute_result"
    },
    {
     "data": {
      "text/plain": [
       "conv1_1: 64 3 3 3\n",
       "conv1_2: 64 64 3 3\n",
       "conv2_1: 128 64 3 3\n",
       "conv2_2: 128 128 3 3\n",
       "conv3_1: 256 128 3 3\n"
      ]
     },
     "execution_count": 2,
     "metadata": {},
     "output_type": "execute_result"
    },
    {
     "data": {
      "text/plain": [
       "conv1_1: 64 3 3 3\n",
       "conv1_2: 64 64 3 3\n",
       "conv2_1: 128 64 3 3\n",
       "conv2_2: 128 128 3 3\n",
       "conv3_1: 256 128 3 3\n"
      ]
     },
     "execution_count": 2,
     "metadata": {},
     "output_type": "execute_result"
    },
    {
     "data": {
      "text/plain": [
       "conv3_2: 256 256 3 3\n"
      ]
     },
     "execution_count": 2,
     "metadata": {},
     "output_type": "execute_result"
    },
    {
     "data": {
      "text/plain": [
       "conv3_2: 256 256 3 3\n"
      ]
     },
     "execution_count": 2,
     "metadata": {},
     "output_type": "execute_result"
    },
    {
     "data": {
      "text/plain": [
       "conv3_3: 256 256 3 3\n"
      ]
     },
     "execution_count": 2,
     "metadata": {},
     "output_type": "execute_result"
    },
    {
     "data": {
      "text/plain": [
       "conv3_3: 256 256 3 3\n"
      ]
     },
     "execution_count": 2,
     "metadata": {},
     "output_type": "execute_result"
    },
    {
     "data": {
      "text/plain": [
       "conv4_1: 512 256 3 3\n"
      ]
     },
     "execution_count": 2,
     "metadata": {},
     "output_type": "execute_result"
    },
    {
     "data": {
      "text/plain": [
       "conv4_1: 512 256 3 3\n"
      ]
     },
     "execution_count": 2,
     "metadata": {},
     "output_type": "execute_result"
    },
    {
     "data": {
      "text/plain": [
       "conv4_2: 512 512 3 3\n"
      ]
     },
     "execution_count": 2,
     "metadata": {},
     "output_type": "execute_result"
    },
    {
     "data": {
      "text/plain": [
       "conv4_2: 512 512 3 3\n"
      ]
     },
     "execution_count": 2,
     "metadata": {},
     "output_type": "execute_result"
    },
    {
     "data": {
      "text/plain": [
       "conv4_3: 512 512 3 3\n"
      ]
     },
     "execution_count": 2,
     "metadata": {},
     "output_type": "execute_result"
    },
    {
     "data": {
      "text/plain": [
       "conv4_3: 512 512 3 3\n"
      ]
     },
     "execution_count": 2,
     "metadata": {},
     "output_type": "execute_result"
    },
    {
     "data": {
      "text/plain": [
       "conv5_1: 512 512 3 3\n"
      ]
     },
     "execution_count": 2,
     "metadata": {},
     "output_type": "execute_result"
    },
    {
     "data": {
      "text/plain": [
       "conv5_1: 512 512 3 3\n"
      ]
     },
     "execution_count": 2,
     "metadata": {},
     "output_type": "execute_result"
    },
    {
     "data": {
      "text/plain": [
       "conv5_2: 512 512 3 3\n"
      ]
     },
     "execution_count": 2,
     "metadata": {},
     "output_type": "execute_result"
    },
    {
     "data": {
      "text/plain": [
       "conv5_2: 512 512 3 3\n"
      ]
     },
     "execution_count": 2,
     "metadata": {},
     "output_type": "execute_result"
    },
    {
     "data": {
      "text/plain": [
       "conv5_3: 512 512 3 3\n"
      ]
     },
     "execution_count": 2,
     "metadata": {},
     "output_type": "execute_result"
    },
    {
     "data": {
      "text/plain": [
       "conv5_3: 512 512 3 3\n"
      ]
     },
     "execution_count": 2,
     "metadata": {},
     "output_type": "execute_result"
    },
    {
     "data": {
      "text/plain": [
       "fc6: 1 1 25088 4096\n"
      ]
     },
     "execution_count": 2,
     "metadata": {},
     "output_type": "execute_result"
    },
    {
     "data": {
      "text/plain": [
       "fc6: 1 1 25088 4096\n"
      ]
     },
     "execution_count": 2,
     "metadata": {},
     "output_type": "execute_result"
    },
    {
     "data": {
      "text/plain": [
       "fc7: 1 1 4096 4096\n"
      ]
     },
     "execution_count": 2,
     "metadata": {},
     "output_type": "execute_result"
    },
    {
     "data": {
      "text/plain": [
       "fc7: 1 1 4096 4096\n"
      ]
     },
     "execution_count": 2,
     "metadata": {},
     "output_type": "execute_result"
    },
    {
     "data": {
      "text/plain": [
       "fc8: 1 1 4096 1000\n"
      ]
     },
     "execution_count": 2,
     "metadata": {},
     "output_type": "execute_result"
    },
    {
     "data": {
      "text/plain": [
       "fc8: 1 1 4096 1000\n"
      ]
     },
     "execution_count": 2,
     "metadata": {},
     "output_type": "execute_result"
    }
   ],
   "source": [
    "-- Loading VGG Net\n",
    "net = load_VGG();\n",
    "-- Creating a new model\n",
    "model = create_colorNet();\n",
    "model = model:type(dtype)\n",
    "model:training()"
   ]
  },
  {
   "cell_type": "code",
   "execution_count": 3,
   "metadata": {
    "collapsed": true
   },
   "outputs": [],
   "source": [
    "train_path = '../../Data/tiny-imagenet-200/train/lemon_sky_elephant_big/images/'"
   ]
  },
  {
   "cell_type": "code",
   "execution_count": 4,
   "metadata": {
    "collapsed": false
   },
   "outputs": [],
   "source": [
    "params, grad_params = model:getParameters()\n",
    "grad_params:zero()\n",
    "im_batch = get_image_batch(2, train_path) -- Generalizes\n",
    "x = get_hypercolumns(im_batch, net,{8,15,22})"
   ]
  },
  {
   "cell_type": "code",
   "execution_count": 6,
   "metadata": {
    "collapsed": false
   },
   "outputs": [
    {
     "ename": "bad argument #2 to '?' (out of range at /tmp/luarocks_torch-scm-1-6930/torch7/generic/Tensor.c:888)\nstack traceback:\n\t[C]: at 0x7fe9681d30b0\n\t[C]: in function '__index'\n\t[string \"local f = function() return type(x[1][0]) end...\"]:1: in function 'f'\n\t[string \"local f = function() return type(x[1][0]) end...\"]:1: in main chunk\n\t[C]: in function 'xpcall'\n\t/home/kedart/torch/install/share/lua/5.1/itorch/main.lua:209: in function </home/kedart/torch/install/share/lua/5.1/itorch/main.lua:173>\n\t/home/kedart/torch/install/share/lua/5.1/lzmq/poller.lua:75: in function 'poll'\n\t/home/kedart/torch/install/share/lua/5.1/lzmq/impl/loop.lua:307: in function 'poll'\n\t/home/kedart/torch/install/share/lua/5.1/lzmq/impl/loop.lua:325: in function 'sleep_ex'\n\t/home/kedart/torch/install/share/lua/5.1/lzmq/impl/loop.lua:370: in function 'start'\n\t/home/kedart/torch/install/share/lua/5.1/itorch/main.lua:381: in main chunk\n\t[C]: in function 'require'\n\t(command line):1: in main chunk\n\t[C]: at 0x00406670",
     "evalue": "",
     "output_type": "error",
     "traceback": [
      "bad argument #2 to '?' (out of range at /tmp/luarocks_torch-scm-1-6930/torch7/generic/Tensor.c:888)\nstack traceback:\n\t[C]: at 0x7fe9681d30b0\n\t[C]: in function '__index'\n\t[string \"local f = function() return type(x[1][0]) end...\"]:1: in function 'f'\n\t[string \"local f = function() return type(x[1][0]) end...\"]:1: in main chunk\n\t[C]: in function 'xpcall'\n\t/home/kedart/torch/install/share/lua/5.1/itorch/main.lua:209: in function </home/kedart/torch/install/share/lua/5.1/itorch/main.lua:173>\n\t/home/kedart/torch/install/share/lua/5.1/lzmq/poller.lua:75: in function 'poll'\n\t/home/kedart/torch/install/share/lua/5.1/lzmq/impl/loop.lua:307: in function 'poll'\n\t/home/kedart/torch/install/share/lua/5.1/lzmq/impl/loop.lua:325: in function 'sleep_ex'\n\t/home/kedart/torch/install/share/lua/5.1/lzmq/impl/loop.lua:370: in function 'start'\n\t/home/kedart/torch/install/share/lua/5.1/itorch/main.lua:381: in main chunk\n\t[C]: in function 'require'\n\t(command line):1: in main chunk\n\t[C]: at 0x00406670"
     ]
    },
    {
     "ename": "bad argument #2 to '?' (out of range at /tmp/luarocks_torch-scm-1-6930/torch7/generic/Tensor.c:888)\nstack traceback:\n\t[C]: at 0x7fe9681d30b0\n\t[C]: in function '__index'\n\t[string \"local f = function() return type(x[1][0]) end...\"]:1: in function 'f'\n\t[string \"local f = function() return type(x[1][0]) end...\"]:1: in main chunk\n\t[C]: in function 'xpcall'\n\t/home/kedart/torch/install/share/lua/5.1/itorch/main.lua:209: in function </home/kedart/torch/install/share/lua/5.1/itorch/main.lua:173>\n\t/home/kedart/torch/install/share/lua/5.1/lzmq/poller.lua:75: in function 'poll'\n\t/home/kedart/torch/install/share/lua/5.1/lzmq/impl/loop.lua:307: in function 'poll'\n\t/home/kedart/torch/install/share/lua/5.1/lzmq/impl/loop.lua:325: in function 'sleep_ex'\n\t/home/kedart/torch/install/share/lua/5.1/lzmq/impl/loop.lua:370: in function 'start'\n\t/home/kedart/torch/install/share/lua/5.1/itorch/main.lua:381: in main chunk\n\t[C]: in function 'require'\n\t(command line):1: in main chunk\n\t[C]: at 0x00406670",
     "evalue": "",
     "output_type": "error",
     "traceback": [
      "bad argument #2 to '?' (out of range at /tmp/luarocks_torch-scm-1-6930/torch7/generic/Tensor.c:888)\nstack traceback:\n\t[C]: at 0x7fe9681d30b0\n\t[C]: in function '__index'\n\t[string \"local f = function() return type(x[1][0]) end...\"]:1: in function 'f'\n\t[string \"local f = function() return type(x[1][0]) end...\"]:1: in main chunk\n\t[C]: in function 'xpcall'\n\t/home/kedart/torch/install/share/lua/5.1/itorch/main.lua:209: in function </home/kedart/torch/install/share/lua/5.1/itorch/main.lua:173>\n\t/home/kedart/torch/install/share/lua/5.1/lzmq/poller.lua:75: in function 'poll'\n\t/home/kedart/torch/install/share/lua/5.1/lzmq/impl/loop.lua:307: in function 'poll'\n\t/home/kedart/torch/install/share/lua/5.1/lzmq/impl/loop.lua:325: in function 'sleep_ex'\n\t/home/kedart/torch/install/share/lua/5.1/lzmq/impl/loop.lua:370: in function 'start'\n\t/home/kedart/torch/install/share/lua/5.1/itorch/main.lua:381: in main chunk\n\t[C]: in function 'require'\n\t(command line):1: in main chunk\n\t[C]: at 0x00406670"
     ]
    }
   ],
   "source": [
    "type(x[1])"
   ]
  },
  {
   "cell_type": "code",
   "execution_count": null,
   "metadata": {
    "collapsed": true
   },
   "outputs": [],
   "source": []
  },
  {
   "cell_type": "code",
   "execution_count": null,
   "metadata": {
    "collapsed": true
   },
   "outputs": [],
   "source": []
  }
 ],
 "metadata": {
  "kernelspec": {
   "display_name": "iTorch",
   "language": "lua",
   "name": "itorch"
  },
  "language_info": {
   "name": "lua",
   "version": "5.1"
  }
 },
 "nbformat": 4,
 "nbformat_minor": 0
}
