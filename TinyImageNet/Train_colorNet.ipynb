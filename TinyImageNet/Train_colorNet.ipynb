{
 "cells": [
  {
   "cell_type": "code",
   "execution_count": 1,
   "metadata": {
    "collapsed": false
   },
   "outputs": [],
   "source": [
    "-- require 'VGG';\n",
    "require 'nn';"
   ]
  },
  {
   "cell_type": "code",
   "execution_count": 2,
   "metadata": {
    "collapsed": true
   },
   "outputs": [],
   "source": [
    "-- require 'VGG';\n",
    "-- VGG_net = load_VGG();\n",
    "-- print('VGGnet5\\n' .. VGG_net:__tostring());"
   ]
  },
  {
   "cell_type": "code",
   "execution_count": 3,
   "metadata": {
    "collapsed": true
   },
   "outputs": [],
   "source": [
    "-- local layer_nums = {9,16}\n",
    "-- local num_images = 20;\n",
    "-- hc_dataset = create_hypercolumn_dataset(num_images, layer_nums)"
   ]
  },
  {
   "cell_type": "markdown",
   "metadata": {},
   "source": [
    "##  Loading the data from disk"
   ]
  },
  {
   "cell_type": "code",
   "execution_count": 1,
   "metadata": {
    "collapsed": false
   },
   "outputs": [],
   "source": [
    "hc_file_name = '../../Data/tiny-imagenet-200/test/hc/test.tv'\n",
    "hc_dataset = torch.load(hc_file_name)"
   ]
  },
  {
   "cell_type": "code",
   "execution_count": 2,
   "metadata": {
    "collapsed": false
   },
   "outputs": [],
   "source": [
    "hypercolumns = hc_dataset[\"hypercolumns\"]\n",
    "images = hc_dataset[\"images\"]\n",
    "print(hypercolumns:size())\n",
    "num_hypercolumns = hypercolumns:size()[2]\n",
    "batch_size = hypercolumns:size()[1]"
   ]
  },
  {
   "cell_type": "markdown",
   "metadata": {
    "collapsed": false
   },
   "source": [
    "## Converting the data labels from rgb to uv format"
   ]
  },
  {
   "cell_type": "code",
   "execution_count": 14,
   "metadata": {
    "collapsed": false
   },
   "outputs": [
    {
     "data": {
      "text/plain": [
       " 20\n",
       "  2\n",
       " 28\n",
       " 28\n",
       "[torch.LongStorage of size 4]\n",
       "\n"
      ]
     },
     "execution_count": 14,
     "metadata": {},
     "output_type": "execute_result"
    }
   ],
   "source": [
    "local yuv_temp = image.rgb2yuv(images[1]);\n",
    "yuv_temp = image.scale(yuv_temp,28,28,'bilinear')\n",
    "local uv_temp = yuv_temp[{{2,3}}]\n",
    "local y_temp = yuv_temp[{{1}}]\n",
    "uv_temp = uv_temp:reshape(1,uv_temp:size()[1], uv_temp:size()[2], uv_temp:size()[3] );\n",
    "y_temp = y_temp:reshape(1,y_temp:size()[1], y_temp:size()[2], y_temp:size()[3] );\n",
    "uv_images = uv_temp\n",
    "y_images = y_temp\n",
    "\n",
    "for count=2,batch_size do\n",
    "    yuv_temp = image.rgb2yuv(images[count]);\n",
    "    yuv_temp = image.scale(yuv_temp,28,28,'bilinear')\n",
    "    uv_temp = yuv_temp[{{2,3}}]\n",
    "    y_temp = yuv_temp[{{1}}]\n",
    "    \n",
    "    uv_temp = uv_temp:reshape(1,uv_temp:size()[1], uv_temp:size()[2], uv_temp:size()[3]);\n",
    "    y_temp = y_temp:reshape(1,y_temp:size()[1], y_temp:size()[2], y_temp:size()[3] );\n",
    "    \n",
    "    uv_images = torch.cat(uv_images,uv_temp,1)\n",
    "    y_images = torch.cat(y_images,y_temp,1)\n",
    "end\n",
    "    print(uv_images:size())"
   ]
  },
  {
   "cell_type": "markdown",
   "metadata": {},
   "source": [
    "## Initializing the trainset datastructure.\n",
    "The format should be as follows\n",
    "1) Trainset.data = contains **X minibatches**"
   ]
  },
  {
   "cell_type": "code",
   "execution_count": 15,
   "metadata": {
    "collapsed": false
   },
   "outputs": [
    {
     "data": {
      "text/plain": [
       " 20\n",
       "  1\n",
       " 28\n",
       " 28\n",
       "[torch.LongStorage of size 4]\n",
       "\n"
      ]
     },
     "execution_count": 15,
     "metadata": {},
     "output_type": "execute_result"
    }
   ],
   "source": [
    "print(y_images:size())"
   ]
  },
  {
   "cell_type": "code",
   "execution_count": 4,
   "metadata": {
    "collapsed": false
   },
   "outputs": [
    {
     "data": {
      "text/plain": [
       " 20\n",
       "  2\n",
       " 28\n",
       " 28\n",
       "[torch.LongStorage of size 4]\n",
       "\n"
      ]
     },
     "execution_count": 3,
     "metadata": {},
     "output_type": "execute_result"
    }
   ],
   "source": [
    "trainset={};\n",
    "trainset.data = torch.Tensor(1, hypercolumns:size()[1],hypercolumns:size()[2],hypercolumns:size()[3],hypercolumns:size()[4])\n",
    "trainset.label = torch.Tensor(1,uv_images:size()[1],uv_images:size()[2],uv_images:size()[3],uv_images:size()[4])\n",
    "function trainset:size() return 20 end -- 100 examples\n",
    "for i=1,trainset:size() do \n",
    "  trainset.data[1][i] = hypercolumns[i]\n",
    "  trainset.label[1][i] = uv_images[i] \n",
    "end\n",
    "\n",
    "setmetatable(trainset, \n",
    "    {__index = function(t, i) \n",
    "                    return {t.data[i], t.label[i]} \n",
    "                end}\n",
    ");\n",
    "trainset.data = trainset.data:double() -- convert the data from a ByteTensor to a DoubleTensor.\n",
    "\n",
    "function trainset:size() \n",
    "    return self.data:size(1) \n",
    "end"
   ]
  },
  {
   "cell_type": "code",
   "execution_count": 5,
   "metadata": {
    "collapsed": false
   },
   "outputs": [],
   "source": [
    "require \"nn\"\n",
    "require \"torch\"\n",
    "\n",
    "function BasicConvNet1()\n",
    "    -- Number of filters in different layers \n",
    "    net = nn.Sequential()\n",
    "    HyperColumnHeight = num_hypercolumns\n",
    "    Layer1FilterNum = 32\n",
    "    Layer2FilterNum = 64\n",
    "    Layer3FilterNum = 2\n",
    "\n",
    "\n",
    "    -- [[ Layer 1 ]]\n",
    "    -- HyperColumnHeight input image channel, Layer1FilterNum output channels, 3x3 convolution kernel, 1 stride W, 1 stride H, 1 pad W, 1 pad R\n",
    "    net:add(nn.SpatialConvolution(HyperColumnHeight, Layer1FilterNum, 3, 3, 1, 1, 1, 1)) \n",
    "    -- Batch Normalization\n",
    "    net:add(nn.SpatialBatchNormalization(Layer1FilterNum))                       \n",
    "    -- ReLU non-linearity\n",
    "    net:add(nn.ReLU())\n",
    "    -- 2x2 max-pooling\n",
    "    net:add(nn.SpatialMaxPooling(2,2,2,2))\n",
    "\n",
    "\n",
    "    -- [[ Layer 2 ]]\n",
    "    -- Layer1FilterNum input image channel, Layer2FilterNum output channels, 3x3 convolution kernel, 1 stride W, 1 stride H, 1 pad W, 1 pad R\n",
    "    net:add(nn.SpatialConvolution(Layer1FilterNum, Layer2FilterNum, 3, 3, 1, 1, 1, 1)) \n",
    "    -- Batch Normalization\n",
    "    net:add(nn.SpatialBatchNormalization(Layer2FilterNum))                       \n",
    "    -- ReLU non-linearity\n",
    "    net:add(nn.ReLU())\n",
    "    -- 2x2 max-pooling\n",
    "    net:add(nn.SpatialMaxPooling(2,2,2,2))\n",
    "\n",
    "    --[[ Layer 3 ]]\n",
    "    -- Layer2FilterNum input image channel, Layer3FilterNum output channels, 3x3 convolution kernel, 1 stride W, 1 stride H, 1 pad W, 1 pad R\n",
    "    net:add(nn.SpatialConvolution(Layer2FilterNum, Layer3FilterNum, 3, 3, 1, 1, 1, 1)) \n",
    "    -- Adding transfer function sigmod \n",
    "    net:add(nn.Sigmoid())  \n",
    "\n",
    "    net:zeroGradParameters()\n",
    "    return net\n",
    "\n",
    "end\n"
   ]
  },
  {
   "cell_type": "code",
   "execution_count": 6,
   "metadata": {
    "collapsed": false
   },
   "outputs": [
    {
     "data": {
      "text/plain": [
       "ConvNet Loaded\t\n",
       "MSEcriterion defined\t\n",
       "Trainer defined\t\n"
      ]
     },
     "execution_count": 6,
     "metadata": {},
     "output_type": "execute_result"
    }
   ],
   "source": [
    "-- Loading the net\n",
    "require('Net1')\n",
    "net = BasicConvNet1()\n",
    "print('ConvNet Loaded')\n",
    "\n",
    "-- Defining a loss function\n",
    "Weight = torch.ones(2,28,28)-- All ones matrix -- Bad coding\n",
    "criterion = nn.WeightedMSECriterion(Weight)\n",
    "print('MSEcriterion defined')\n",
    "\n",
    "trainer = nn.StochasticGradient(net, criterion)\n",
    "-- learning rate init\n",
    "trainer.learningRate = 0.1 --\n",
    "-- Number of Epocs\n",
    "trainer.maxIteration = 10\n",
    "trainer.verbose = true\n",
    "trainer.shuffleIndices = false\n",
    "trainer.learningRateDecay = .9\n",
    "print('Trainer defined')"
   ]
  },
  {
   "cell_type": "code",
   "execution_count": 7,
   "metadata": {
    "collapsed": false
   },
   "outputs": [
    {
     "data": {
      "text/plain": [
       "No code error during sanity check (Logical error might still exist)\t\n"
      ]
     },
     "execution_count": 7,
     "metadata": {},
     "output_type": "execute_result"
    }
   ],
   "source": [
    "-- Passing a random input\n",
    "input = torch.rand(2,384,112,112) -- pass a random tensor as input to the network\n",
    "-- Obtain the output\n",
    "output = net:forward(input)\n",
    "\n",
    "-- Checking the backward pass using a fake expected output\n",
    "ExpectedFakeOutput = torch.rand( output:size() )\n",
    "criterion:forward(output, ExpectedFakeOutput)\n",
    "gradients = criterion:backward(output, ExpectedFakeOutput)\n",
    "print(\"No code error during sanity check (Logical error might still exist)\")"
   ]
  },
  {
   "cell_type": "code",
   "execution_count": 8,
   "metadata": {
    "collapsed": false
   },
   "outputs": [
    {
     "data": {
      "image/png": "[encoded data removed]",
      "text/plain": [
       "Console does not support images"
      ]
     },
     "metadata": {
      "image/png": {
       "height": 112,
       "width": 112
      }
     },
     "output_type": "display_data"
    },
    {
     "data": {
      "text/plain": [
       "\n"
      ]
     },
     "execution_count": 8,
     "metadata": {},
     "output_type": "execute_result"
    }
   ],
   "source": [
    "itorch.image(hypercolumns[1][2])"
   ]
  },
  {
   "cell_type": "code",
   "execution_count": 9,
   "metadata": {
    "collapsed": false,
    "scrolled": true
   },
   "outputs": [
    {
     "data": {
      "text/plain": [
       "nn.SpatialConvolution(32 -> 64, 3x3, 1,1, 1,1)\n",
       "{\n",
       "  dH : 1\n",
       "  dW : 1\n",
       "  nOutputPlane : 64\n",
       "  output : DoubleTensor - size: 2x64x56x56\n",
       "  gradInput : DoubleTensor - empty\n",
       "  fgradInput : DoubleTensor - empty\n",
       "  finput : DoubleTensor - size: 2x288x3136\n",
       "  gradBias : DoubleTensor - size: 64\n",
       "  padH : 1\n",
       "  weight : DoubleTensor - size: 64x32x3x3\n",
       "  bias : DoubleTensor - size: 64\n"
      ]
     },
     "execution_count": 9,
     "metadata": {},
     "output_type": "execute_result"
    },
    {
     "data": {
      "text/plain": [
       "  gradWeight : DoubleTensor - size: 64x32x3x3\n",
       "  padW : 1\n",
       "  nInputPlane : 32\n",
       "  kW : 3\n",
       "  kH : 3\n",
       "}\n",
       " 64\n",
       " 32\n",
       "  3\n",
       "  3\n",
       "[torch.LongStorage of size 4]\n",
       "\n"
      ]
     },
     "execution_count": 9,
     "metadata": {},
     "output_type": "execute_result"
    },
    {
     "data": {
      "text/plain": [
       "(1,.,.) = \n",
       " 0.01 *\n",
       "  -0.1233  2.9009 -3.8480\n",
       "  -3.5550  5.6591  2.4935\n",
       "   3.3474  0.6952 -2.1006\n",
       "\n",
       "(2,.,.) = \n",
       " 0.01 *\n",
       "   4.4753  0.6597 -1.1053\n",
       "   3.7438  4.2409  0.3863\n",
       "   1.7521 -5.4305 -2.3218\n",
       "\n",
       "(3,.,.) = \n",
       " 0.01 *\n",
       "  -5.4047  4.9640  4.9519\n",
       "  -2.8589 -0.7010 -4.9045\n",
       "   5.5091 -4.7667 -2.8237\n",
       "\n",
       "(4,.,.) = \n",
       " 0.01 *\n",
       "  -5.8747 -5.6121 -4.1032\n",
       "   5.3286  5.6486 -3.1654\n",
       "   0.9970  1.9920 -5.4076\n",
       "\n",
       "(5,.,.) = \n",
       " 0.01 *\n",
       "   0.2701 -0.6362 -3.8614\n",
       "   1.1643 -1.9935 -1.9093\n",
       "  -2.2492  0.1994  4.3536\n",
       "\n",
       "(6,.,.) = \n",
       " 0.01 *\n",
       "  -5.5077 -5.3955  0.8508\n",
       "   4.3636  2.9845  1.7523\n",
       "  -2.7413  1.0699  3.2682\n",
       "\n",
       "(7,.,.) = \n",
       " 0.01 *\n",
       "  -3.9815 -4.9928  0.5075\n",
       "  -2.1978  5.4515  2.6447\n",
       "  -5.8410  1.6531 -4.0912\n",
       "\n",
       "(8,.,.) = \n",
       " 0.01 *\n",
       "  -3.7545 -4.8859  0.8738\n",
       "   5.5433  0.8534 -0.3536\n",
       "   5.2192 -0.9846 -2.9063\n",
       "\n",
       "(9,.,.) = \n",
       " 0.01 *\n",
       "   0.2666 -2.1994 -4.6389\n",
       "  -3.5633  4.5893  2.4475\n",
       "   2.9329  4.2125 -2.7580\n",
       "\n",
       "(10,.,.) = \n",
       " 0.01 *\n",
       "  -5.1742  4.7644  0.0053\n",
       "   5.1822 -0.8718 -0.7493\n",
       "   4.2316 -3.1303  1.4228\n",
       "\n",
       "(11,.,.) = \n",
       " 0.01 *\n",
       "  -5.6186  4.9328  1.5533\n",
       "   0.9629  2.9143  2.1450\n",
       "   0.4150 -5.3024 -3.7202\n",
       "\n",
       "(12,.,.) = \n",
       " 0.01 *\n",
       "  -5.2796  1.3265  1.7552\n",
       "   0.9648  5.5114  3.6451\n",
       "  -4.9216  1.7170  0.9539\n",
       "\n",
       "(13,.,.) = \n",
       " 0.01 *\n",
       "   2.1836  3.3295 -2.2394\n",
       "   5.7159  3.3150  4.9335\n",
       "  -2.6052  4.4222 -0.3343\n",
       "\n",
       "(14,.,.) = \n",
       " 0.01 *\n",
       "  -1.2043  2.2359  4.6169\n",
       "   0.0752 -0.9378  3.3004\n",
       "  -5.7312 -0.0602 -0.0286\n",
       "\n",
       "(15,.,.) = \n",
       " 0.01 *\n",
       "  -4.3342 -1.8297 -5.4338\n",
       "   2.9778 -2.8931  2.7399\n",
       "  -4.4314  1.6016  3.1051\n",
       "\n",
       "(16,.,.) = \n",
       " 0.01 *\n",
       "  -2.1909 -1.7113 -3.9390\n",
       "  -3.6939 -3.1648  1.4452\n",
       "  -4.6119  3.1267 -1.3565\n",
       "\n",
       "(17,.,.) = \n",
       " 0.01 *\n",
       "   5.2591 -0.7457  5.2343\n",
       "  -4.9143 -2.9830  4.7695\n",
       "   0.5021 -4.7246 -1.1542\n",
       "\n",
       "(18,.,.) = \n",
       " 0.01 *\n",
       "   0.6622  5.7062  4.1628\n",
       "  -4.0743 -4.1743 -5.8757\n",
       "  -2.4896 -3.3343 -0.3987\n",
       "\n",
       "(19,.,.) = \n",
       " 0.01 *\n",
       "  -4.2724  5.8828  4.5171\n",
       "  -0.3926  1.4910 -5.7980\n",
       "   5.0400  1.8807 -2.8153\n",
       "\n",
       "(20,.,.) = \n",
       " 0.01 *\n",
       "   3.6691  2.4187  5.6557\n",
       "  -0.0728  2.4589 -1.8079\n",
       "  -4.8840  1.6576 -0.4791\n",
       "\n",
       "(21,.,.) = \n",
       " 0.01 *\n",
       "  -3.4317 -4.2430  5.1278\n",
       "  -1.6950 -1.2819  4.8317\n",
       "   4.8949  4.6879  0.4062\n",
       "\n",
       "(22,.,.) = \n",
       " 0.01 *\n",
       "   3.8065 -3.6850 -1.2636\n",
       "  -0.9169 -0.7805  2.5154\n",
       "  -1.1841  2.3247  4.4948\n",
       "\n",
       "(23,.,.) = \n",
       " 0.01 *\n",
       "  -3.5955 -5.2959  1.2136\n",
       "   3.5023  4.1438 -4.3608\n",
       "   2.0649  5.2052 -2.6066\n",
       "\n",
       "(24,.,.) = \n",
       " 0.01 *\n",
       "  -4.1255 -3.8524 -3.8782\n",
       "   0.8211  5.4553 -2.4842\n",
       "  -0.3191  5.1870  4.9729\n",
       "\n",
       "(25,.,.) = \n",
       " 0.01 *\n",
       "  -0.0546  1.2277  5.4696\n",
       "  -1.0107 -1.0131 -3.6028\n",
       "  -3.5324  1.8462  1.9448\n",
       "\n",
       "(26,.,.) = \n",
       " 0.01 *\n",
       "  -3.7936  1.0451 -4.1452\n",
       "   0.7795 -0.4505  3.7411\n",
       "  -0.9471 -0.5303  2.3933\n",
       "\n",
       "(27,.,.) = \n",
       " 0.01 *\n",
       "  -1.7301  0.2840  5.0328\n",
       "   1.9339 -4.1832  0.0268\n",
       "  -5.2829 -2.4558  1.4559\n",
       "\n",
       "(28,.,.) = \n",
       " 0.01 *\n",
       "  -5.7914 -0.6812  5.7870\n",
       "  -5.1197 -2.4724 -5.0767\n",
       "   3.9288 -5.0754 -4.0575\n",
       "\n",
       "(29,.,.) = \n",
       " 0.01 *\n",
       "   2.6559  2.7304 -3.4323\n",
       "   3.8960  4.2643 -5.8907\n",
       "   1.0797 -2.6705 -4.1039\n",
       "\n",
       "(30,.,.) = \n",
       " 0.01 *\n",
       "   3.4652  3.3066  1.5741\n",
       "  -3.3578  2.6627  2.2747\n",
       "  -4.4592 -3.7085 -5.5912\n",
       "\n",
       "(31,.,.) = \n",
       " 0.01 *\n",
       "   5.5343 -4.9367  0.6980\n",
       "   0.9440  5.0369  1.2269\n",
       "  -0.1228  3.7456  3.4091\n",
       "\n",
       "(32,.,.) = \n",
       " 0.01 *\n",
       "  -2.7880 -5.7247 -2.0935\n",
       "   4.4014  4.3527  3.1654\n",
       "   5.2291 -0.6275  2.6305\n",
       "[torch.DoubleTensor of size 32x3x3]\n",
       "\n"
      ]
     },
     "execution_count": 9,
     "metadata": {},
     "output_type": "execute_result"
    }
   ],
   "source": [
    "local layer = net.modules\n",
    "print(layer[5])\n",
    "print(layer[5].weight:size())\n",
    "print(layer[5].weight[1])\n",
    "-- itorch.image(layer[1])"
   ]
  },
  {
   "cell_type": "code",
   "execution_count": 10,
   "metadata": {
    "collapsed": false
   },
   "outputs": [
    {
     "data": {
      "text/plain": [
       "Initial error\t0.25343611088797\t\n"
      ]
     },
     "execution_count": 10,
     "metadata": {},
     "output_type": "execute_result"
    }
   ],
   "source": [
    "print(\"Initial error\", criterion:forward(net:forward(hypercolumns), uv_images))"
   ]
  },
  {
   "cell_type": "markdown",
   "metadata": {},
   "source": [
    "## Network output before training"
   ]
  },
  {
   "cell_type": "code",
   "execution_count": 11,
   "metadata": {
    "collapsed": true
   },
   "outputs": [],
   "source": [
    "a = net:forward(hypercolumns)\n"
   ]
  },
  {
   "cell_type": "code",
   "execution_count": 18,
   "metadata": {
    "collapsed": false
   },
   "outputs": [
    {
     "data": {
      "image/png": "[encoded data removed]",
      "text/plain": [
       "Console does not support images"
      ]
     },
     "metadata": {
      "image/png": {
       "height": 64,
       "width": 64
      }
     },
     "output_type": "display_data"
    },
    {
     "data": {
      "image/png": "[encoded data removed]",
      "text/plain": [
       "Console does not support images"
      ]
     },
     "metadata": {
      "image/png": {
       "height": 64,
       "width": 64
      }
     },
     "output_type": "display_data"
    },
    {
     "data": {
      "text/plain": [
       "\n",
       "\t\n"
      ]
     },
     "execution_count": 18,
     "metadata": {},
     "output_type": "execute_result"
    },
    {
     "data": {
      "image/png": "[encoded data removed]",
      "text/plain": [
       "Console does not support images"
      ]
     },
     "metadata": {
      "image/png": {
       "height": 30,
       "width": 60
      }
     },
     "output_type": "display_data"
    },
    {
     "data": {
      "image/png": "[encoded data removed]",
      "text/plain": [
       "Console does not support images"
      ]
     },
     "metadata": {
      "image/png": {
       "height": 30,
       "width": 60
      }
     },
     "output_type": "display_data"
    },
    {
     "data": {
      "text/plain": [
       "\n",
       "\t\n"
      ]
     },
     "execution_count": 18,
     "metadata": {},
     "output_type": "execute_result"
    },
    {
     "data": {
      "image/png": "[encoded data removed]",
      "text/plain": [
       "Console does not support images"
      ]
     },
     "metadata": {
      "image/png": {
       "height": 30,
       "width": 60
      }
     },
     "output_type": "display_data"
    },
    {
     "data": {
      "image/png": "[encoded data removed]",
      "text/plain": [
       "Console does not support images"
      ]
     },
     "metadata": {
      "image/png": {
       "height": 30,
       "width": 60
      }
     },
     "output_type": "display_data"
    },
    {
     "data": {
      "text/plain": [
       "\n",
       "\t\n"
      ]
     },
     "execution_count": 18,
     "metadata": {},
     "output_type": "execute_result"
    },
    {
     "data": {
      "image/png": "[encoded data removed]",
      "text/plain": [
       "Console does not support images"
      ]
     },
     "metadata": {
      "image/png": {
       "height": 30,
       "width": 60
      }
     },
     "output_type": "display_data"
    },
    {
     "data": {
      "image/png": "[encoded data removed]",
      "text/plain": [
       "Console does not support images"
      ]
     },
     "metadata": {
      "image/png": {
       "height": 30,
       "width": 60
      }
     },
     "output_type": "display_data"
    },
    {
     "data": {
      "text/plain": [
       "\n",
       "\t\n"
      ]
     },
     "execution_count": 18,
     "metadata": {},
     "output_type": "execute_result"
    },
    {
     "data": {
      "image/png": "[encoded data removed]",
      "text/plain": [
       "Console does not support images"
      ]
     },
     "metadata": {
      "image/png": {
       "height": 30,
       "width": 60
      }
     },
     "output_type": "display_data"
    },
    {
     "data": {
      "image/png": "[encoded data removed]",
      "text/plain": [
       "Console does not support images"
      ]
     },
     "metadata": {
      "image/png": {
       "height": 30,
       "width": 60
      }
     },
     "output_type": "display_data"
    }
   ],
   "source": [
    "i = 1\n",
    "itorch.image(image.scale(image.yuv2rgb(torch.cat(y_images[i],a[i],1)), 64,64))\n",
    "itorch.image(images[i] )\n",
    "\n",
    "print('\\n')\n",
    "i = 4\n",
    "itorch.image(a[i] )\n",
    "itorch.image(uv_images[i] )\n",
    "\n",
    "print('\\n')\n",
    "i = 8\n",
    "itorch.image(a[i] )\n",
    "itorch.image(uv_images[i] )\n",
    "\n",
    "print('\\n')\n",
    "i = 16\n",
    "itorch.image(a[i] )\n",
    "itorch.image(uv_images[i] )\n",
    "\n",
    "print('\\n')\n",
    "i = 20\n",
    "itorch.image(a[i] )\n",
    "itorch.image(uv_images[i] )"
   ]
  },
  {
   "cell_type": "code",
   "execution_count": 14,
   "metadata": {
    "collapsed": true
   },
   "outputs": [
    {
     "data": {
      "text/plain": [
       "The training starts\t\n",
       "# StochasticGradient: training\t\n"
      ]
     },
     "execution_count": 14,
     "metadata": {},
     "output_type": "execute_result"
    },
    {
     "data": {
      "text/plain": [
       "# current error = 0.25480228315934\t\n"
      ]
     },
     "execution_count": 14,
     "metadata": {},
     "output_type": "execute_result"
    },
    {
     "data": {
      "text/plain": [
       "# current error = 0.091289380870282\t\n"
      ]
     },
     "execution_count": 14,
     "metadata": {},
     "output_type": "execute_result"
    },
    {
     "data": {
      "text/plain": [
       "# current error = 0.056995789539028\t\n"
      ]
     },
     "execution_count": 14,
     "metadata": {},
     "output_type": "execute_result"
    },
    {
     "data": {
      "text/plain": [
       "# current error = 0.039707088927151\t\n"
      ]
     },
     "execution_count": 14,
     "metadata": {},
     "output_type": "execute_result"
    },
    {
     "data": {
      "text/plain": [
       "# current error = 0.029691080516024\t\n"
      ]
     },
     "execution_count": 14,
     "metadata": {},
     "output_type": "execute_result"
    },
    {
     "data": {
      "text/plain": [
       "# StochasticGradient: you have reached the maximum number of iterations\t\n",
       "# training error = 0.029691080516024\t\n"
      ]
     },
     "execution_count": 14,
     "metadata": {},
     "output_type": "execute_result"
    }
   ],
   "source": [
    "print('The training starts')\n",
    "-- Woah! Traingin the data\n",
    "trainer:train(trainset)"
   ]
  },
  {
   "cell_type": "code",
   "execution_count": 15,
   "metadata": {
    "collapsed": false
   },
   "outputs": [],
   "source": [
    "a = net:forward(hypercolumns)\n"
   ]
  },
  {
   "cell_type": "code",
   "execution_count": null,
   "metadata": {
    "collapsed": false
   },
   "outputs": [],
   "source": []
  },
  {
   "cell_type": "code",
   "execution_count": null,
   "metadata": {
    "collapsed": true
   },
   "outputs": [],
   "source": []
  }
 ],
 "metadata": {
  "kernelspec": {
   "display_name": "iTorch",
   "language": "lua",
   "name": "itorch"
  },
  "language_info": {
   "name": "lua",
   "version": "5.1"
  }
 },
 "nbformat": 4,
 "nbformat_minor": 0
}
