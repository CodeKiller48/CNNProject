{
 "cells": [
  {
   "cell_type": "code",
   "execution_count": 1,
   "metadata": {
    "collapsed": false
   },
   "outputs": [],
   "source": [
    "-- require 'VGG';\n",
    "require 'nn';"
   ]
  },
  {
   "cell_type": "code",
   "execution_count": 2,
   "metadata": {
    "collapsed": true
   },
   "outputs": [],
   "source": [
    "-- require 'VGG';\n",
    "-- VGG_net = load_VGG();\n",
    "-- print('VGGnet5\\n' .. VGG_net:__tostring());"
   ]
  },
  {
   "cell_type": "code",
   "execution_count": 3,
   "metadata": {
    "collapsed": true
   },
   "outputs": [],
   "source": [
    "-- local layer_nums = {9,16}\n",
    "-- local num_images = 20;\n",
    "-- hc_dataset = create_hypercolumn_dataset(num_images, layer_nums)"
   ]
  },
  {
   "cell_type": "markdown",
   "metadata": {},
   "source": [
    "##  Loading the data from disk"
   ]
  },
  {
   "cell_type": "code",
   "execution_count": 4,
   "metadata": {
    "collapsed": false
   },
   "outputs": [],
   "source": [
    "hc_file_name = '../../Data/tiny-imagenet-200/test/hc/test.t7'\n",
    "hc_dataset = torch.load(hc_file_name)"
   ]
  },
  {
   "cell_type": "code",
   "execution_count": 5,
   "metadata": {
    "collapsed": false
   },
   "outputs": [
    {
     "data": {
      "text/plain": [
       "  20\n",
       " 384\n",
       " 112\n",
       " 112\n",
       "[torch.LongStorage of size 4]\n",
       "\n"
      ]
     },
     "execution_count": 5,
     "metadata": {},
     "output_type": "execute_result"
    }
   ],
   "source": [
    "hypercolumns = hc_dataset[\"hypercolumns\"]\n",
    "images = hc_dataset[\"images\"]\n",
    "print(hypercolumns:size())\n",
    "num_hypercolumns = hypercolumns:size()[2]\n",
    "batch_size = hypercolumns:size()[1]"
   ]
  },
  {
   "cell_type": "markdown",
   "metadata": {
    "collapsed": false
   },
   "source": [
    "## Converting the data labels from rgb to uv format"
   ]
  },
  {
   "cell_type": "code",
   "execution_count": 6,
   "metadata": {
    "collapsed": false
   },
   "outputs": [
    {
     "data": {
      "text/plain": [
       " 20\n",
       "  2\n",
       " 28\n",
       " 28\n",
       "[torch.LongStorage of size 4]\n",
       "\n"
      ]
     },
     "execution_count": 6,
     "metadata": {},
     "output_type": "execute_result"
    }
   ],
   "source": [
    "local yuv_temp = image.rgb2yuv(images[1]);\n",
    "yuv_temp = image.scale(yuv_temp,28,28,'bilinear')\n",
    "local uv_temp = yuv_temp[{{2,3}}]\n",
    "uv_temp = uv_temp:reshape(1,uv_temp:size()[1], uv_temp:size()[2], uv_temp:size()[3] );\n",
    "uv_images = uv_temp\n",
    "\n",
    "for count=2,batch_size do\n",
    "    yuv_temp = image.rgb2yuv(images[count]);\n",
    "    yuv_temp = image.scale(yuv_temp,28,28,'bilinear')\n",
    "    uv_temp = yuv_temp[{{2,3}}]\n",
    "    uv_temp = uv_temp:reshape(1,uv_temp:size()[1], uv_temp:size()[2], uv_temp:size()[3]);\n",
    "    uv_images = torch.cat(uv_images,uv_temp,1)\n",
    "end\n",
    "    print(uv_images:size())"
   ]
  },
  {
   "cell_type": "markdown",
   "metadata": {},
   "source": [
    "## Initializing the trainset datastructure.\n",
    "The format should be as follows\n",
    "1) Trainset.data = contains **X minibatches**"
   ]
  },
  {
   "cell_type": "code",
   "execution_count": 7,
   "metadata": {
    "collapsed": false
   },
   "outputs": [],
   "source": [
    "trainset={};\n",
    "trainset.data = torch.Tensor(1, hypercolumns:size()[1],hypercolumns:size()[2],hypercolumns:size()[3],hypercolumns:size()[4])\n",
    "trainset.label = torch.Tensor(1,uv_images:size()[1],uv_images:size()[2],uv_images:size()[3],uv_images:size()[4])\n",
    "function trainset:size() return 20 end -- 100 examples\n",
    "for i=1,trainset:size() do \n",
    "  trainset.data[1][i] = hypercolumns[i]\n",
    "  trainset.label[1][i] = uv_images[i] \n",
    "end\n",
    "\n",
    "setmetatable(trainset, \n",
    "    {__index = function(t, i) \n",
    "                    return {t.data[i], t.label[i]} \n",
    "                end}\n",
    ");\n",
    "trainset.data = trainset.data:double() -- convert the data from a ByteTensor to a DoubleTensor.\n",
    "\n",
    "function trainset:size() \n",
    "    return self.data:size(1) \n",
    "end"
   ]
  },
  {
   "cell_type": "code",
   "execution_count": 8,
   "metadata": {
    "collapsed": false
   },
   "outputs": [],
   "source": [
    "require \"nn\"\n",
    "require \"torch\"\n",
    "\n",
    "function BasicConvNet1()\n",
    "    -- Number of filters in different layers \n",
    "    net = nn.Sequential()\n",
    "    HyperColumnHeight = num_hypercolumns\n",
    "    Layer1FilterNum = 32\n",
    "    Layer2FilterNum = 64\n",
    "    Layer3FilterNum = 2\n",
    "\n",
    "\n",
    "    -- [[ Layer 1 ]]\n",
    "    -- HyperColumnHeight input image channel, Layer1FilterNum output channels, 3x3 convolution kernel, 1 stride W, 1 stride H, 1 pad W, 1 pad R\n",
    "    net:add(nn.SpatialConvolution(HyperColumnHeight, Layer1FilterNum, 3, 3, 1, 1, 1, 1)) \n",
    "    -- Batch Normalization\n",
    "    net:add(nn.SpatialBatchNormalization(Layer1FilterNum))                       \n",
    "    -- ReLU non-linearity\n",
    "    net:add(nn.ReLU())\n",
    "    -- 2x2 max-pooling\n",
    "    net:add(nn.SpatialMaxPooling(2,2,2,2))\n",
    "\n",
    "\n",
    "    -- [[ Layer 2 ]]\n",
    "    -- Layer1FilterNum input image channel, Layer2FilterNum output channels, 3x3 convolution kernel, 1 stride W, 1 stride H, 1 pad W, 1 pad R\n",
    "    net:add(nn.SpatialConvolution(Layer1FilterNum, Layer2FilterNum, 3, 3, 1, 1, 1, 1)) \n",
    "    -- Batch Normalization\n",
    "    net:add(nn.SpatialBatchNormalization(Layer2FilterNum))                       \n",
    "    -- ReLU non-linearity\n",
    "    net:add(nn.ReLU())\n",
    "    -- 2x2 max-pooling\n",
    "    net:add(nn.SpatialMaxPooling(2,2,2,2))\n",
    "\n",
    "    --[[ Layer 3 ]]\n",
    "    -- Layer2FilterNum input image channel, Layer3FilterNum output channels, 3x3 convolution kernel, 1 stride W, 1 stride H, 1 pad W, 1 pad R\n",
    "    net:add(nn.SpatialConvolution(Layer2FilterNum, Layer3FilterNum, 3, 3, 1, 1, 1, 1)) \n",
    "    -- Adding transfer function sigmod \n",
    "    net:add(nn.Sigmoid())  \n",
    "\n",
    "    net:zeroGradParameters()\n",
    "    return net\n",
    "\n",
    "end\n"
   ]
  },
  {
   "cell_type": "code",
   "execution_count": 9,
   "metadata": {
    "collapsed": false
   },
   "outputs": [
    {
     "data": {
      "text/plain": [
       "ConvNet Loaded\t\n",
       "MSEcriterion defined\t\n",
       "Trainer defined\t\n"
      ]
     },
     "execution_count": 9,
     "metadata": {},
     "output_type": "execute_result"
    }
   ],
   "source": [
    "-- Loading the net\n",
    "require('Net1')\n",
    "net = BasicConvNet1()\n",
    "print('ConvNet Loaded')\n",
    "\n",
    "-- Defining a loss function\n",
    "Weight = torch.ones(2,28,28)-- All ones matrix -- Bad coding\n",
    "criterion = nn.WeightedMSECriterion(Weight)\n",
    "print('MSEcriterion defined')\n",
    "\n",
    "trainer = nn.StochasticGradient(net, criterion)\n",
    "-- learning rate init\n",
    "trainer.learningRate = 0.1 --\n",
    "-- Number of Epocs\n",
    "trainer.maxIteration = 10\n",
    "trainer.verbose = true\n",
    "trainer.shuffleIndices = false\n",
    "trainer.learningRateDecay = .9\n",
    "print('Trainer defined')"
   ]
  },
  {
   "cell_type": "code",
   "execution_count": 10,
   "metadata": {
    "collapsed": false
   },
   "outputs": [
    {
     "data": {
      "text/plain": [
       "No code error during sanity check (Logical error might still exist)\t\n"
      ]
     },
     "execution_count": 10,
     "metadata": {},
     "output_type": "execute_result"
    }
   ],
   "source": [
    "-- Passing a random input\n",
    "input = torch.rand(2,384,112,112) -- pass a random tensor as input to the network\n",
    "-- Obtain the output\n",
    "output = net:forward(input)\n",
    "\n",
    "-- Checking the backward pass using a fake expected output\n",
    "ExpectedFakeOutput = torch.rand( output:size() )\n",
    "criterion:forward(output, ExpectedFakeOutput)\n",
    "gradients = criterion:backward(output, ExpectedFakeOutput)\n",
    "print(\"No code error during sanity check (Logical error might still exist)\")"
   ]
  },
  {
   "cell_type": "code",
   "execution_count": 11,
   "metadata": {
    "collapsed": false
   },
   "outputs": [
    {
     "data": {
      "image/png": "[encoded data removed]",
      "text/plain": [
       "Console does not support images"
      ]
     },
     "metadata": {
      "image/png": {
       "height": 112,
       "width": 112
      }
     },
     "output_type": "display_data"
    },
    {
     "data": {
      "text/plain": [
       "\n"
      ]
     },
     "execution_count": 11,
     "metadata": {},
     "output_type": "execute_result"
    }
   ],
   "source": [
    "itorch.image(hypercolumns[1][2])"
   ]
  },
  {
   "cell_type": "code",
   "execution_count": 16,
   "metadata": {
    "collapsed": false,
    "scrolled": true
   },
   "outputs": [
    {
     "data": {
      "text/plain": [
       "nn.SpatialConvolution(32 -> 64, 3x3, 1,1, 1,1)\n",
       "{\n",
       "  dH : 1\n",
       "  dW : 1\n",
       "  nOutputPlane : 64\n",
       "  output : DoubleTensor - size: 2x64x56x56\n",
       "  gradInput : DoubleTensor - empty\n",
       "  fgradInput : DoubleTensor - empty\n",
       "  finput : DoubleTensor - size: 2x288x3136\n",
       "  gradBias : DoubleTensor - size: 64\n",
       "  padH : 1\n",
       "  weight : DoubleTensor - size: 64x32x3x3\n",
       "  bias : DoubleTensor - size: 64\n",
       "  gradWeight : DoubleTensor - size: 64x32x3x3\n",
       "  padW : 1\n",
       "  nInputPlane : 32\n",
       "  kW : 3\n",
       "  kH : 3\n",
       "}\n",
       " 64\n",
       " 32\n",
       "  3\n",
       "  3\n",
       "[torch.LongStorage of size 4]\n",
       "\n"
      ]
     },
     "execution_count": 16,
     "metadata": {},
     "output_type": "execute_result"
    },
    {
     "data": {
      "text/plain": [
       "(1,.,.) = \n",
       " 0.01 *\n",
       "   4.0761  0.5235  1.3104\n",
       "   4.4401  1.1808  2.4113\n",
       "  -5.3793  3.9863  3.6715\n",
       "\n",
       "(2,.,.) = \n",
       " 0.01 *\n",
       "  -4.3512  4.8127 -1.6819\n",
       "  -3.0880  0.2557  2.9611\n",
       "  -2.1833  3.3920  5.8651\n",
       "\n",
       "(3,.,.) = \n",
       " 0.01 *\n",
       "   0.5789 -1.5549 -0.7608\n",
       "  -3.2632 -1.5825 -3.6488\n",
       "  -4.5208 -4.1044  2.9413\n",
       "\n",
       "(4,.,.) = \n",
       " 0.01 *\n",
       "  -2.6748  4.5517  4.7569\n",
       "  -4.1122 -0.9918 -2.6109\n",
       "   3.7748  0.3463 -4.3141\n",
       "\n",
       "(5,.,.) = \n",
       " 0.01 *\n",
       "   5.2885 -5.4831 -0.3297\n",
       "   5.3565 -2.1926  3.8740\n",
       "  -1.9492  3.7224 -4.0024\n",
       "\n",
       "(6,.,.) = \n",
       " 0.01 *\n",
       "  -2.0880 -5.6301  3.9880\n",
       "   5.7174 -2.0532  4.4163\n",
       "  -4.6082  2.1624  2.0961\n",
       "\n",
       "(7,.,.) = \n",
       " 0.01 *\n",
       "   2.8242  1.8452 -3.6839\n",
       "   0.9623  2.2573  2.4978\n",
       "   4.4165 -4.1842  3.2133\n",
       "\n",
       "(8,.,.) = \n",
       " 0.01 *\n",
       "   3.3612 -0.8075  1.7917\n",
       "   4.3112 -0.5763  0.7658\n",
       "   2.0521  0.4649  0.1259\n",
       "\n",
       "(9,.,.) = \n",
       " 0.01 *\n",
       "   0.8623 -3.2069  4.8055\n",
       "  -4.3484  1.9106  5.7972\n",
       "   4.3875 -2.5561  4.4759\n",
       "\n",
       "(10,.,.) = \n",
       " 0.01 *\n",
       "  -5.2114  1.8150 -2.1637\n",
       "   3.4269 -0.6336 -0.9103\n",
       "   4.4666 -4.7306  5.2230\n",
       "\n",
       "(11,.,.) = \n",
       " 0.01 *\n",
       "  -1.6900 -5.1597 -1.0878\n",
       "  -1.3272  4.7057  3.5941\n",
       "   4.5687 -1.2372 -1.8919\n",
       "\n",
       "(12,.,.) = \n",
       " 0.01 *\n",
       "  -0.1587 -1.0931 -3.4489\n",
       "  -1.1805  3.1921 -0.6855\n",
       "  -1.3492 -0.7262 -0.7631\n",
       "\n",
       "(13,.,.) = \n",
       " 0.01 *\n",
       "  -4.7819  4.5045  3.4969\n",
       "   5.4159 -3.8240 -1.0895\n",
       "  -4.9949 -3.1624  3.8624\n",
       "\n",
       "(14,.,.) = \n",
       " 0.01 *\n",
       "  -0.4732 -3.9562  5.2463\n",
       "  -5.5209 -3.0927  5.0724\n",
       "   5.8750 -1.5050 -4.4097\n",
       "\n",
       "(15,.,.) = \n",
       " 0.01 *\n",
       "   0.4955  4.7542  3.9715\n",
       "  -1.9426 -2.0995 -0.4360\n",
       "   5.5922 -5.6276 -1.1306\n",
       "\n",
       "(16,.,.) = \n",
       " 0.01 *\n",
       "  -4.3914  0.0175  4.1725\n",
       "   5.4991 -1.3682  5.5023\n",
       "   5.7310  3.1967  5.0862\n",
       "\n",
       "(17,.,.) = \n",
       " 0.01 *\n",
       "  -0.2920  4.9638  2.6923\n",
       "   5.1240 -5.5590 -3.7745\n",
       "   3.3778 -4.2995 -2.1098\n",
       "\n",
       "(18,.,.) = \n",
       " 0.01 *\n",
       "  -1.5751  1.2592  3.9655\n",
       "   5.6416 -3.7134  2.3875\n",
       "  -4.4677  4.1045  2.6683\n",
       "\n",
       "(19,.,.) = \n",
       " 0.01 *\n",
       "   5.3475  1.4689  0.5905\n",
       "   5.0910 -2.5164 -0.2879\n",
       "   4.7003 -3.2830  2.9466\n",
       "\n",
       "(20,.,.) = \n",
       " 0.01 *\n",
       "   0.4654  4.5954 -4.3211\n",
       "   1.3315 -3.2635 -4.8985\n",
       "   1.8039  2.1185 -4.0859\n",
       "\n",
       "(21,.,.) = \n",
       " 0.01 *\n",
       "  -1.3754 -0.5075  4.3163\n",
       "  -2.4361 -2.3853 -1.8532\n",
       "   0.9766 -0.0475 -4.4185\n",
       "\n",
       "(22,.,.) = \n",
       " 0.01 *\n",
       "  -5.4353  0.0329  0.5053\n",
       "   2.3968 -5.3617 -3.7538\n",
       "  -4.5796 -4.4018 -0.5480\n",
       "\n",
       "(23,.,.) = \n",
       " 0.01 *\n",
       "   4.5870  4.6891 -1.7056\n",
       "  -0.9060  5.0912  0.9035\n",
       "  -0.1254  1.7927  4.8419\n",
       "\n",
       "(24,.,.) = \n",
       " 0.01 *\n",
       "  -2.5099 -4.7685 -4.0783\n",
       "   2.8352 -4.4760  2.3241\n",
       "   5.6325  5.8151 -5.0461\n",
       "\n",
       "(25,.,.) = \n",
       " 0.01 *\n",
       "  -4.3050 -2.2830  2.4183\n",
       "  -0.5014 -5.8161  3.3813\n",
       "  -2.7092  0.1220 -1.6179\n",
       "\n",
       "(26,.,.) = \n",
       " 0.01 *\n",
       "  -2.8699  2.2518  4.1383\n",
       "   1.7622  4.2007  5.6907\n",
       "   5.2471 -1.9370 -0.2488\n",
       "\n",
       "(27,.,.) = \n",
       " 0.01 *\n",
       "   2.1883 -1.9942  0.5188\n",
       "  -4.7282 -0.1763 -4.7664\n",
       "   0.4958  1.7911 -3.9163\n",
       "\n",
       "(28,.,.) = \n",
       " 0.01 *\n",
       "   2.9092 -4.3954  1.2194\n",
       "  -2.7629  3.1926  3.8373\n",
       "  -2.6372 -4.5770  1.9401\n",
       "\n",
       "(29,.,.) = \n",
       " 0.01 *\n",
       "   3.4348  5.1872 -1.1534\n",
       "   0.6622  5.7110  4.9379\n",
       "  -2.5110 -2.1950 -4.0308\n",
       "\n",
       "(30,.,.) = \n",
       " 0.01 *\n",
       "  -3.9508 -2.6382 -5.6097\n",
       "  -5.0184 -3.5618 -1.6371\n",
       "  -1.1186  2.9627  1.6709\n",
       "\n",
       "(31,.,.) = \n",
       " 0.01 *\n",
       "  -5.1226 -1.2902  5.5197\n",
       "   4.1661 -3.1862 -3.6981\n",
       "   2.5062 -2.5321 -3.2437\n",
       "\n",
       "(32,.,.) = \n",
       " 0.01 *\n",
       "  -2.8597  1.1161  5.1587\n",
       "   0.8238 -4.3755  5.0806\n",
       "   0.9412 -4.8042  2.9228\n",
       "[torch.DoubleTensor of size 32x3x3]\n",
       "\n"
      ]
     },
     "execution_count": 16,
     "metadata": {},
     "output_type": "execute_result"
    }
   ],
   "source": [
    "local layer = net.modules\n",
    "print(layer[5])\n",
    "print(layer[5].weight:size())\n",
    "print(layer[5].weight[1])\n",
    "-- itorch.image(layer[1])"
   ]
  },
  {
   "cell_type": "code",
   "execution_count": 12,
   "metadata": {
    "collapsed": false
   },
   "outputs": [
    {
     "data": {
      "text/plain": [
       "Initial error\t0.24118051933478\t\n"
      ]
     },
     "execution_count": 12,
     "metadata": {},
     "output_type": "execute_result"
    }
   ],
   "source": [
    "print(\"Initial error\", criterion:forward(net:forward(hypercolumns), uv_images))"
   ]
  },
  {
   "cell_type": "markdown",
   "metadata": {},
   "source": [
    "## Network output before training"
   ]
  },
  {
   "cell_type": "code",
   "execution_count": 24,
   "metadata": {
    "collapsed": true
   },
   "outputs": [],
   "source": [
    "a = net:forward(hypercolumns)\n"
   ]
  },
  {
   "cell_type": "code",
   "execution_count": 17,
   "metadata": {
    "collapsed": false
   },
   "outputs": [
    {
     "data": {
      "image/png": "[encoded data removed]",
      "text/plain": [
       "Console does not support images"
      ]
     },
     "metadata": {
      "image/png": {
       "height": 30,
       "width": 60
      }
     },
     "output_type": "display_data"
    },
    {
     "data": {
      "image/png": "[encoded data removed]",
      "text/plain": [
       "Console does not support images"
      ]
     },
     "metadata": {
      "image/png": {
       "height": 30,
       "width": 60
      }
     },
     "output_type": "display_data"
    },
    {
     "data": {
      "text/plain": [
       "\n",
       "\t\n"
      ]
     },
     "execution_count": 17,
     "metadata": {},
     "output_type": "execute_result"
    },
    {
     "data": {
      "image/png": "[encoded data removed]",
      "text/plain": [
       "Console does not support images"
      ]
     },
     "metadata": {
      "image/png": {
       "height": 30,
       "width": 60
      }
     },
     "output_type": "display_data"
    },
    {
     "data": {
      "image/png": "[encoded data removed]",
      "text/plain": [
       "Console does not support images"
      ]
     },
     "metadata": {
      "image/png": {
       "height": 30,
       "width": 60
      }
     },
     "output_type": "display_data"
    },
    {
     "data": {
      "text/plain": [
       "\n",
       "\t\n"
      ]
     },
     "execution_count": 17,
     "metadata": {},
     "output_type": "execute_result"
    },
    {
     "data": {
      "image/png": "[encoded data removed]",
      "text/plain": [
       "Console does not support images"
      ]
     },
     "metadata": {
      "image/png": {
       "height": 30,
       "width": 60
      }
     },
     "output_type": "display_data"
    },
    {
     "data": {
      "image/png": "[encoded data removed]",
      "text/plain": [
       "Console does not support images"
      ]
     },
     "metadata": {
      "image/png": {
       "height": 30,
       "width": 60
      }
     },
     "output_type": "display_data"
    },
    {
     "data": {
      "text/plain": [
       "\n",
       "\t\n"
      ]
     },
     "execution_count": 17,
     "metadata": {},
     "output_type": "execute_result"
    },
    {
     "data": {
      "image/png": "[encoded data removed]",
      "text/plain": [
       "Console does not support images"
      ]
     },
     "metadata": {
      "image/png": {
       "height": 30,
       "width": 60
      }
     },
     "output_type": "display_data"
    },
    {
     "data": {
      "image/png": "[encoded data removed]",
      "text/plain": [
       "Console does not support images"
      ]
     },
     "metadata": {
      "image/png": {
       "height": 30,
       "width": 60
      }
     },
     "output_type": "display_data"
    },
    {
     "data": {
      "text/plain": [
       "\n",
       "\t\n"
      ]
     },
     "execution_count": 17,
     "metadata": {},
     "output_type": "execute_result"
    },
    {
     "data": {
      "image/png": "[encoded data removed]",
      "text/plain": [
       "Console does not support images"
      ]
     },
     "metadata": {
      "image/png": {
       "height": 30,
       "width": 60
      }
     },
     "output_type": "display_data"
    },
    {
     "data": {
      "image/png": "[encoded data removed]",
      "text/plain": [
       "Console does not support images"
      ]
     },
     "metadata": {
      "image/png": {
       "height": 30,
       "width": 60
      }
     },
     "output_type": "display_data"
    }
   ],
   "source": [
    "i = 1\n",
    "itorch.image(a[i] )\n",
    "itorch.image(uv_images[i] )\n",
    "\n",
    "print('\\n')\n",
    "i = 4\n",
    "itorch.image(a[i] )\n",
    "itorch.image(uv_images[i] )\n",
    "\n",
    "print('\\n')\n",
    "i = 8\n",
    "itorch.image(a[i] )\n",
    "itorch.image(uv_images[i] )\n",
    "\n",
    "print('\\n')\n",
    "i = 16\n",
    "itorch.image(a[i] )\n",
    "itorch.image(uv_images[i] )\n",
    "\n",
    "print('\\n')\n",
    "i = 20\n",
    "itorch.image(a[i] )\n",
    "itorch.image(uv_images[i] )"
   ]
  },
  {
   "cell_type": "code",
   "execution_count": 14,
   "metadata": {
    "collapsed": true
   },
   "outputs": [
    {
     "data": {
      "text/plain": [
       "The training starts\t\n",
       "# StochasticGradient: training\t\n"
      ]
     },
     "execution_count": 14,
     "metadata": {},
     "output_type": "execute_result"
    },
    {
     "data": {
      "text/plain": [
       "# current error = 0.25480228315934\t\n"
      ]
     },
     "execution_count": 14,
     "metadata": {},
     "output_type": "execute_result"
    },
    {
     "data": {
      "text/plain": [
       "# current error = 0.091289380870282\t\n"
      ]
     },
     "execution_count": 14,
     "metadata": {},
     "output_type": "execute_result"
    },
    {
     "data": {
      "text/plain": [
       "# current error = 0.056995789539028\t\n"
      ]
     },
     "execution_count": 14,
     "metadata": {},
     "output_type": "execute_result"
    },
    {
     "data": {
      "text/plain": [
       "# current error = 0.039707088927151\t\n"
      ]
     },
     "execution_count": 14,
     "metadata": {},
     "output_type": "execute_result"
    },
    {
     "data": {
      "text/plain": [
       "# current error = 0.029691080516024\t\n"
      ]
     },
     "execution_count": 14,
     "metadata": {},
     "output_type": "execute_result"
    },
    {
     "data": {
      "text/plain": [
       "# StochasticGradient: you have reached the maximum number of iterations\t\n",
       "# training error = 0.029691080516024\t\n"
      ]
     },
     "execution_count": 14,
     "metadata": {},
     "output_type": "execute_result"
    }
   ],
   "source": [
    "print('The training starts')\n",
    "-- Woah! Traingin the data\n",
    "trainer:train(trainset)"
   ]
  },
  {
   "cell_type": "code",
   "execution_count": 15,
   "metadata": {
    "collapsed": false
   },
   "outputs": [],
   "source": [
    "a = net:forward(hypercolumns)\n"
   ]
  },
  {
   "cell_type": "code",
   "execution_count": null,
   "metadata": {
    "collapsed": false
   },
   "outputs": [],
   "source": []
  },
  {
   "cell_type": "code",
   "execution_count": null,
   "metadata": {
    "collapsed": true
   },
   "outputs": [],
   "source": []
  }
 ],
 "metadata": {
  "kernelspec": {
   "display_name": "iTorch",
   "language": "lua",
   "name": "itorch"
  },
  "language_info": {
   "name": "lua",
   "version": "5.1"
  }
 },
 "nbformat": 4,
 "nbformat_minor": 0
}
