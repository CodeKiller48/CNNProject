{
 "cells": [
  {
   "cell_type": "code",
   "execution_count": 4,
   "metadata": {
    "collapsed": true
   },
   "outputs": [],
   "source": [
    "require 'Utils'\n",
    "require 'Net1'\n",
    "require 'VGG'\n",
    "require 'optim'\n",
    "require 'nngraph'"
   ]
  },
  {
   "cell_type": "code",
   "execution_count": 10,
   "metadata": {
    "collapsed": false
   },
   "outputs": [
    {
     "ename": "...tatwawadi/torch/install/share/lua/5.1/graph/graphviz.lua:162: attempt to call method 'todot' (a nil value)\nstack traceback:\n\t...tatwawadi/torch/install/share/lua/5.1/graph/graphviz.lua:162: in function 'graphvizFile'\n\t...tatwawadi/torch/install/share/lua/5.1/graph/graphviz.lua:195: in function 'dot'\n\t[string \"net = BasicConvNet2()...\"]:2: in main chunk\n\t[C]: in function 'xpcall'\n\t...dartatwawadi/torch/install/share/lua/5.1/itorch/main.lua:209: in function <...dartatwawadi/torch/install/share/lua/5.1/itorch/main.lua:173>\n\t...dartatwawadi/torch/install/share/lua/5.1/lzmq/poller.lua:75: in function 'poll'\n\t...tatwawadi/torch/install/share/lua/5.1/lzmq/impl/loop.lua:307: in function 'poll'\n\t...tatwawadi/torch/install/share/lua/5.1/lzmq/impl/loop.lua:325: in function 'sleep_ex'\n\t...tatwawadi/torch/install/share/lua/5.1/lzmq/impl/loop.lua:370: in function 'start'\n\t...dartatwawadi/torch/install/share/lua/5.1/itorch/main.lua:381: in main chunk\n\t[C]: in function 'require'\n\t(command line):1: in main chunk\n\t[C]: at 0x00406670",
     "evalue": "",
     "output_type": "error",
     "traceback": [
      "...tatwawadi/torch/install/share/lua/5.1/graph/graphviz.lua:162: attempt to call method 'todot' (a nil value)\nstack traceback:\n\t...tatwawadi/torch/install/share/lua/5.1/graph/graphviz.lua:162: in function 'graphvizFile'\n\t...tatwawadi/torch/install/share/lua/5.1/graph/graphviz.lua:195: in function 'dot'\n\t[string \"net = BasicConvNet2()...\"]:2: in main chunk\n\t[C]: in function 'xpcall'\n\t...dartatwawadi/torch/install/share/lua/5.1/itorch/main.lua:209: in function <...dartatwawadi/torch/install/share/lua/5.1/itorch/main.lua:173>\n\t...dartatwawadi/torch/install/share/lua/5.1/lzmq/poller.lua:75: in function 'poll'\n\t...tatwawadi/torch/install/share/lua/5.1/lzmq/impl/loop.lua:307: in function 'poll'\n\t...tatwawadi/torch/install/share/lua/5.1/lzmq/impl/loop.lua:325: in function 'sleep_ex'\n\t...tatwawadi/torch/install/share/lua/5.1/lzmq/impl/loop.lua:370: in function 'start'\n\t...dartatwawadi/torch/install/share/lua/5.1/itorch/main.lua:381: in main chunk\n\t[C]: in function 'require'\n\t(command line):1: in main chunk\n\t[C]: at 0x00406670"
     ]
    }
   ],
   "source": [
    "net = BasicConvNet2()\n",
    "graph:dot(net:fg)"
   ]
  },
  {
   "cell_type": "code",
   "execution_count": null,
   "metadata": {
    "collapsed": true
   },
   "outputs": [],
   "source": []
  }
 ],
 "metadata": {
  "kernelspec": {
   "display_name": "iTorch",
   "language": "lua",
   "name": "itorch"
  },
  "language_info": {
   "name": "lua",
   "version": "5.1"
  }
 },
 "nbformat": 4,
 "nbformat_minor": 0
}
